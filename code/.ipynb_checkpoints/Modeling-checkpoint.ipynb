{
 "cells": [
  {
   "cell_type": "code",
   "execution_count": 1,
   "metadata": {},
   "outputs": [],
   "source": [
    "# import libraries\n",
    "import numpy as np\n",
    "import pandas as pd\n",
    "import matplotlib.pyplot as plt\n",
    "\n",
    "from sklearn.pipeline import Pipeline, FeatureUnion\n",
    "from sklearn.preprocessing import StandardScaler, FunctionTransformer\n",
    "from sklearn.model_selection import train_test_split, GridSearchCV\n",
    "from sklearn.metrics import confusion_matrix, accuracy_score, classification_report\n",
    "\n",
    "\n",
    "import warnings\n",
    "warnings.filterwarnings('ignore')\n",
    "\n",
    "from sklearn.naive_bayes import MultinomialNB, GaussianNB\n",
    "from sklearn.linear_model import LogisticRegression\n",
    "from sklearn.neighbors import KNeighborsClassifier\n",
    "from sklearn import metrics\n",
    "from sklearn.metrics import plot_confusion_matrix\n",
    "from sklearn.metrics import roc_curve, precision_recall_curve, auc, make_scorer, recall_score, accuracy_score, precision_score, confusion_matrix\n",
    "\n",
    "# Import CountVectorizer and TFIDFVectorizer from feature_extraction.text.\n",
    "from sklearn.feature_extraction.text import CountVectorizer, TfidfVectorizer\n",
    "import pickle"
   ]
  },
  {
   "cell_type": "code",
   "execution_count": 2,
   "metadata": {
    "scrolled": false
   },
   "outputs": [
    {
     "data": {
      "text/html": [
       "<div>\n",
       "<style scoped>\n",
       "    .dataframe tbody tr th:only-of-type {\n",
       "        vertical-align: middle;\n",
       "    }\n",
       "\n",
       "    .dataframe tbody tr th {\n",
       "        vertical-align: top;\n",
       "    }\n",
       "\n",
       "    .dataframe thead th {\n",
       "        text-align: right;\n",
       "    }\n",
       "</style>\n",
       "<table border=\"1\" class=\"dataframe\">\n",
       "  <thead>\n",
       "    <tr style=\"text-align: right;\">\n",
       "      <th></th>\n",
       "      <th>subreddit</th>\n",
       "      <th>sentiment</th>\n",
       "      <th>cleaned_text</th>\n",
       "      <th>simpe_class</th>\n",
       "    </tr>\n",
       "  </thead>\n",
       "  <tbody>\n",
       "    <tr>\n",
       "      <th>39891</th>\n",
       "      <td>1</td>\n",
       "      <td>0.2732</td>\n",
       "      <td>trump begin witchhunt green  seek name departm...</td>\n",
       "      <td>1</td>\n",
       "    </tr>\n",
       "    <tr>\n",
       "      <th>39892</th>\n",
       "      <td>1</td>\n",
       "      <td>0.5859</td>\n",
       "      <td>new report switch clean  economy irrevocably u...</td>\n",
       "      <td>0</td>\n",
       "    </tr>\n",
       "    <tr>\n",
       "      <th>39893</th>\n",
       "      <td>1</td>\n",
       "      <td>0.4404</td>\n",
       "      <td>buy v lease solar panel option better homeowner</td>\n",
       "      <td>1</td>\n",
       "    </tr>\n",
       "    <tr>\n",
       "      <th>39894</th>\n",
       "      <td>1</td>\n",
       "      <td>0.0000</td>\n",
       "      <td>residential solar water heater idea</td>\n",
       "      <td>1</td>\n",
       "    </tr>\n",
       "    <tr>\n",
       "      <th>39895</th>\n",
       "      <td>1</td>\n",
       "      <td>0.0000</td>\n",
       "      <td>port long beach go greener solar carport</td>\n",
       "      <td>1</td>\n",
       "    </tr>\n",
       "  </tbody>\n",
       "</table>\n",
       "</div>"
      ],
      "text/plain": [
       "       subreddit  sentiment  \\\n",
       "39891          1     0.2732   \n",
       "39892          1     0.5859   \n",
       "39893          1     0.4404   \n",
       "39894          1     0.0000   \n",
       "39895          1     0.0000   \n",
       "\n",
       "                                            cleaned_text  simpe_class  \n",
       "39891  trump begin witchhunt green  seek name departm...            1  \n",
       "39892  new report switch clean  economy irrevocably u...            0  \n",
       "39893    buy v lease solar panel option better homeowner            1  \n",
       "39894                residential solar water heater idea            1  \n",
       "39895           port long beach go greener solar carport            1  "
      ]
     },
     "execution_count": 2,
     "metadata": {},
     "output_type": "execute_result"
    }
   ],
   "source": [
    "#reading data\n",
    "df=pd.read_csv(\"../datasets/df_final.csv\")\n",
    "df.tail()"
   ]
  },
  {
   "cell_type": "code",
   "execution_count": 3,
   "metadata": {
    "scrolled": true
   },
   "outputs": [
    {
     "data": {
      "text/plain": [
       "subreddit       0\n",
       "sentiment       0\n",
       "cleaned_text    0\n",
       "simpe_class     0\n",
       "dtype: int64"
      ]
     },
     "execution_count": 3,
     "metadata": {},
     "output_type": "execute_result"
    }
   ],
   "source": [
    "df.isnull().sum()"
   ]
  },
  {
   "cell_type": "code",
   "execution_count": 4,
   "metadata": {},
   "outputs": [
    {
     "data": {
      "text/plain": [
       "(39896, 4)"
      ]
     },
     "execution_count": 4,
     "metadata": {},
     "output_type": "execute_result"
    }
   ],
   "source": [
    "df.shape"
   ]
  },
  {
   "cell_type": "code",
   "execution_count": 5,
   "metadata": {},
   "outputs": [],
   "source": [
    "df.drop_duplicates(inplace=True)"
   ]
  },
  {
   "cell_type": "code",
   "execution_count": 6,
   "metadata": {},
   "outputs": [
    {
     "data": {
      "text/plain": [
       "(38686, 4)"
      ]
     },
     "execution_count": 6,
     "metadata": {},
     "output_type": "execute_result"
    }
   ],
   "source": [
    "df.shape"
   ]
  },
  {
   "cell_type": "markdown",
   "metadata": {},
   "source": [
    "## Model"
   ]
  },
  {
   "cell_type": "code",
   "execution_count": 7,
   "metadata": {},
   "outputs": [],
   "source": [
    "get_text_data = FunctionTransformer(lambda x: x['cleaned_text'], validate = False)\n",
    "get_numeric_data = FunctionTransformer(lambda x: x[['simpe_class','sentiment']], validate = False)"
   ]
  },
  {
   "cell_type": "code",
   "execution_count": 8,
   "metadata": {},
   "outputs": [],
   "source": [
    "X = df[['cleaned_text','simpe_class','sentiment']]\n",
    "y = df['subreddit']"
   ]
  },
  {
   "cell_type": "code",
   "execution_count": 9,
   "metadata": {
    "scrolled": true
   },
   "outputs": [
    {
     "data": {
      "text/plain": [
       "1    19378\n",
       "0    19308\n",
       "Name: subreddit, dtype: int64"
      ]
     },
     "execution_count": 9,
     "metadata": {},
     "output_type": "execute_result"
    }
   ],
   "source": [
    "# Check what we need to check in a classification problem.\n",
    "y.value_counts()"
   ]
  },
  {
   "cell_type": "code",
   "execution_count": 10,
   "metadata": {},
   "outputs": [],
   "source": [
    "# Split the data into the training and testing sets.\n",
    "X_train, X_test, y_train, y_test = train_test_split(X,\n",
    "                                                    y,\n",
    "                                                    test_size=0.2,\n",
    "                                                    stratify=y,\n",
    "                                                    random_state=42)"
   ]
  },
  {
   "cell_type": "markdown",
   "metadata": {},
   "source": [
    "## Logisitic regression Modeling with Pipeline and Grid search"
   ]
  },
  {
   "cell_type": "code",
   "execution_count": 11,
   "metadata": {},
   "outputs": [
    {
     "data": {
      "text/plain": [
       "0.8786674421610443"
      ]
     },
     "execution_count": 11,
     "metadata": {},
     "output_type": "execute_result"
    }
   ],
   "source": [
    "pipe_v3 = Pipeline([\n",
    "    ('features', FeatureUnion([\n",
    "            ('numeric_features', Pipeline([\n",
    "                ('selector', get_numeric_data),\n",
    "                ('ss', StandardScaler())\n",
    "            ])),\n",
    "            ('text_features', Pipeline([\n",
    "                ('selector', get_text_data),\n",
    "                ('cvec', CountVectorizer())\n",
    "            ]))\n",
    "    ])),\n",
    "    ('logreg', LogisticRegression(solver=\"liblinear\"))\n",
    "])\n",
    "\n",
    "params = {\n",
    "    \n",
    "    \n",
    "        'logreg__penalty' : ['l1','l2'],\n",
    "        'logreg__C' : [0.01,0.1],\n",
    "        #'logreg__solver' : ['liblinear'],\n",
    "        #'features__text_features__cvec__stop_words' : [\"power\",\"plant\"]\n",
    "       'features__text_features__cvec__ngram_range': [(1,1),(1,2)],\n",
    "        #'features__text_features__cvec__max_features': [5000],\n",
    "     #'features__text_features__cvec__min_df': [2],\n",
    "        #'features__text_features__cvec__max_df': [ .9]\n",
    "        \n",
    "    \n",
    "}\n",
    "\n",
    "gs_lr = GridSearchCV(pipe_v3, params, cv=5)\n",
    "\n",
    "gs_lr.fit(X_train, y_train)\n",
    "gs_lr.score(X_train, y_train)"
   ]
  },
  {
   "cell_type": "code",
   "execution_count": 12,
   "metadata": {},
   "outputs": [
    {
     "data": {
      "text/plain": [
       "{'features__text_features__cvec__ngram_range': (1, 2),\n",
       " 'logreg__C': 0.1,\n",
       " 'logreg__penalty': 'l2'}"
      ]
     },
     "execution_count": 12,
     "metadata": {},
     "output_type": "execute_result"
    }
   ],
   "source": [
    "gs_lr.best_params_"
   ]
  },
  {
   "cell_type": "code",
   "execution_count": 13,
   "metadata": {},
   "outputs": [
    {
     "data": {
      "text/plain": [
       "0.6537865081416386"
      ]
     },
     "execution_count": 13,
     "metadata": {},
     "output_type": "execute_result"
    }
   ],
   "source": [
    "gs_lr.score(X_test, y_test)"
   ]
  },
  {
   "cell_type": "code",
   "execution_count": 14,
   "metadata": {
    "scrolled": true
   },
   "outputs": [
    {
     "data": {
      "text/plain": [
       "sklearn.pipeline.Pipeline"
      ]
     },
     "execution_count": 14,
     "metadata": {},
     "output_type": "execute_result"
    }
   ],
   "source": [
    "type(gs_lr.best_estimator_)"
   ]
  },
  {
   "cell_type": "code",
   "execution_count": 18,
   "metadata": {},
   "outputs": [],
   "source": [
    "def nice_conmat(y_test, preds, classes):\n",
    "\n",
    "    conmat = confusion_matrix(y_test, preds)\n",
    "    print(f'Accuracy Score: {accuracy_score(y_test, preds)}')\n",
    "    return pd.DataFrame(conmat, columns=['Predicted ' +class_ for class_ in classes], \\\n",
    "                index=['Actual '+ class_ for class_ in classes])"
   ]
  },
  {
   "cell_type": "code",
   "execution_count": 19,
   "metadata": {
    "scrolled": true
   },
   "outputs": [
    {
     "name": "stdout",
     "output_type": "stream",
     "text": [
      "Accuracy Score: 0.6537865081416386\n"
     ]
    },
    {
     "data": {
      "text/html": [
       "<div>\n",
       "<style scoped>\n",
       "    .dataframe tbody tr th:only-of-type {\n",
       "        vertical-align: middle;\n",
       "    }\n",
       "\n",
       "    .dataframe tbody tr th {\n",
       "        vertical-align: top;\n",
       "    }\n",
       "\n",
       "    .dataframe thead th {\n",
       "        text-align: right;\n",
       "    }\n",
       "</style>\n",
       "<table border=\"1\" class=\"dataframe\">\n",
       "  <thead>\n",
       "    <tr style=\"text-align: right;\">\n",
       "      <th></th>\n",
       "      <th>Predicted energy</th>\n",
       "      <th>Predicted renewable_energy</th>\n",
       "    </tr>\n",
       "  </thead>\n",
       "  <tbody>\n",
       "    <tr>\n",
       "      <th>Actual energy</th>\n",
       "      <td>2382</td>\n",
       "      <td>1480</td>\n",
       "    </tr>\n",
       "    <tr>\n",
       "      <th>Actual renewable_energy</th>\n",
       "      <td>1199</td>\n",
       "      <td>2677</td>\n",
       "    </tr>\n",
       "  </tbody>\n",
       "</table>\n",
       "</div>"
      ],
      "text/plain": [
       "                         Predicted energy  Predicted renewable_energy\n",
       "Actual energy                        2382                        1480\n",
       "Actual renewable_energy              1199                        2677"
      ]
     },
     "execution_count": 19,
     "metadata": {},
     "output_type": "execute_result"
    }
   ],
   "source": [
    "# build a function to print out a nice confusion matrix\n",
    "preds = gs_lr.best_estimator_.predict(X_test)\n",
    "\n",
    "nice_conmat(y_test, preds, ['energy', 'renewable_energy'])"
   ]
  },
  {
   "cell_type": "code",
   "execution_count": 20,
   "metadata": {},
   "outputs": [],
   "source": [
    "class_names=[\"Renewable_Energy\",\"Energy\"]"
   ]
  },
  {
   "cell_type": "code",
   "execution_count": 21,
   "metadata": {},
   "outputs": [
    {
     "data": {
      "image/png": "[encoded data removed]",
      "text/plain": [
       "<Figure size 432x288 with 2 Axes>"
      ]
     },
     "metadata": {
      "needs_background": "light"
     },
     "output_type": "display_data"
    }
   ],
   "source": [
    "plot_confusion_matrix(gs_lr,\n",
    "                      X_test,\n",
    "                      y_test,\n",
    "                      display_labels=class_names,\n",
    "                     cmap=plt.cm.Blues,\n",
    "                    normalize=\"true\",\n",
    "                     );\n",
    "plt.savefig('../plots/cf_reg_cvec.png')"
   ]
  },
  {
   "cell_type": "markdown",
   "metadata": {},
   "source": [
    "## getting model coefficients"
   ]
  },
  {
   "cell_type": "code",
   "execution_count": 22,
   "metadata": {},
   "outputs": [],
   "source": [
    "features = gs_lr.best_estimator_.named_steps['features'].transformer_list[1][1].named_steps['cvec'].get_feature_names()\n",
    "coefficients = gs_lr.best_estimator_.named_steps['logreg'].coef_[0]\n",
    "\n",
    "coef_df=pd.DataFrame({'features': ['sentiment','simpe_class']+ features, \n",
    "              'coef' : coefficients,\n",
    "              'exp_coef': [np.exp(coef) for coef in coefficients]\n",
    "             })"
   ]
  },
  {
   "cell_type": "code",
   "execution_count": 23,
   "metadata": {
    "scrolled": false
   },
   "outputs": [
    {
     "data": {
      "text/html": [
       "<div>\n",
       "<style scoped>\n",
       "    .dataframe tbody tr th:only-of-type {\n",
       "        vertical-align: middle;\n",
       "    }\n",
       "\n",
       "    .dataframe tbody tr th {\n",
       "        vertical-align: top;\n",
       "    }\n",
       "\n",
       "    .dataframe thead th {\n",
       "        text-align: right;\n",
       "    }\n",
       "</style>\n",
       "<table border=\"1\" class=\"dataframe\">\n",
       "  <thead>\n",
       "    <tr style=\"text-align: right;\">\n",
       "      <th></th>\n",
       "      <th>coef</th>\n",
       "      <th>exp_coef</th>\n",
       "    </tr>\n",
       "    <tr>\n",
       "      <th>features</th>\n",
       "      <th></th>\n",
       "      <th></th>\n",
       "    </tr>\n",
       "  </thead>\n",
       "  <tbody>\n",
       "    <tr>\n",
       "      <th>hawaii</th>\n",
       "      <td>0.910285</td>\n",
       "      <td>2.485032</td>\n",
       "    </tr>\n",
       "    <tr>\n",
       "      <th>career</th>\n",
       "      <td>0.778970</td>\n",
       "      <td>2.179227</td>\n",
       "    </tr>\n",
       "    <tr>\n",
       "      <th>awesome</th>\n",
       "      <td>0.578598</td>\n",
       "      <td>1.783537</td>\n",
       "    </tr>\n",
       "    <tr>\n",
       "      <th>cat</th>\n",
       "      <td>0.550458</td>\n",
       "      <td>1.734047</td>\n",
       "    </tr>\n",
       "    <tr>\n",
       "      <th>tidal</th>\n",
       "      <td>0.535616</td>\n",
       "      <td>1.708500</td>\n",
       "    </tr>\n",
       "    <tr>\n",
       "      <th>engineering</th>\n",
       "      <td>0.532568</td>\n",
       "      <td>1.703300</td>\n",
       "    </tr>\n",
       "    <tr>\n",
       "      <th>gas plant</th>\n",
       "      <td>0.531763</td>\n",
       "      <td>1.701930</td>\n",
       "    </tr>\n",
       "    <tr>\n",
       "      <th>synthetic</th>\n",
       "      <td>0.526205</td>\n",
       "      <td>1.692497</td>\n",
       "    </tr>\n",
       "    <tr>\n",
       "      <th>location</th>\n",
       "      <td>0.526195</td>\n",
       "      <td>1.692481</td>\n",
       "    </tr>\n",
       "    <tr>\n",
       "      <th>fission</th>\n",
       "      <td>0.526155</td>\n",
       "      <td>1.692413</td>\n",
       "    </tr>\n",
       "  </tbody>\n",
       "</table>\n",
       "</div>"
      ],
      "text/plain": [
       "                 coef  exp_coef\n",
       "features                       \n",
       "hawaii       0.910285  2.485032\n",
       "career       0.778970  2.179227\n",
       "awesome      0.578598  1.783537\n",
       "cat          0.550458  1.734047\n",
       "tidal        0.535616  1.708500\n",
       "engineering  0.532568  1.703300\n",
       "gas plant    0.531763  1.701930\n",
       "synthetic    0.526205  1.692497\n",
       "location     0.526195  1.692481\n",
       "fission      0.526155  1.692413"
      ]
     },
     "execution_count": 23,
     "metadata": {},
     "output_type": "execute_result"
    }
   ],
   "source": [
    "coef_df = coef_df.set_index('features')\n",
    "coef_df = coef_df.sort_values('exp_coef', ascending = False)\n",
    "coef_df.head(10)"
   ]
  },
  {
   "cell_type": "code",
   "execution_count": 24,
   "metadata": {},
   "outputs": [
    {
     "data": {
      "text/html": [
       "<div>\n",
       "<style scoped>\n",
       "    .dataframe tbody tr th:only-of-type {\n",
       "        vertical-align: middle;\n",
       "    }\n",
       "\n",
       "    .dataframe tbody tr th {\n",
       "        vertical-align: top;\n",
       "    }\n",
       "\n",
       "    .dataframe thead th {\n",
       "        text-align: right;\n",
       "    }\n",
       "</style>\n",
       "<table border=\"1\" class=\"dataframe\">\n",
       "  <thead>\n",
       "    <tr style=\"text-align: right;\">\n",
       "      <th></th>\n",
       "      <th>coef</th>\n",
       "      <th>exp_coef</th>\n",
       "    </tr>\n",
       "    <tr>\n",
       "      <th>features</th>\n",
       "      <th></th>\n",
       "      <th></th>\n",
       "    </tr>\n",
       "  </thead>\n",
       "  <tbody>\n",
       "    <tr>\n",
       "      <th>hawaii</th>\n",
       "      <td>0.910285</td>\n",
       "      <td>2.485032</td>\n",
       "    </tr>\n",
       "    <tr>\n",
       "      <th>career</th>\n",
       "      <td>0.778970</td>\n",
       "      <td>2.179227</td>\n",
       "    </tr>\n",
       "    <tr>\n",
       "      <th>awesome</th>\n",
       "      <td>0.578598</td>\n",
       "      <td>1.783537</td>\n",
       "    </tr>\n",
       "    <tr>\n",
       "      <th>cat</th>\n",
       "      <td>0.550458</td>\n",
       "      <td>1.734047</td>\n",
       "    </tr>\n",
       "    <tr>\n",
       "      <th>tidal</th>\n",
       "      <td>0.535616</td>\n",
       "      <td>1.708500</td>\n",
       "    </tr>\n",
       "    <tr>\n",
       "      <th>...</th>\n",
       "      <td>...</td>\n",
       "      <td>...</td>\n",
       "    </tr>\n",
       "    <tr>\n",
       "      <th>coronavirus</th>\n",
       "      <td>-0.766913</td>\n",
       "      <td>0.464445</td>\n",
       "    </tr>\n",
       "    <tr>\n",
       "      <th>opec</th>\n",
       "      <td>-0.784525</td>\n",
       "      <td>0.456337</td>\n",
       "    </tr>\n",
       "    <tr>\n",
       "      <th>shale</th>\n",
       "      <td>-0.822101</td>\n",
       "      <td>0.439507</td>\n",
       "    </tr>\n",
       "    <tr>\n",
       "      <th>hydrogen</th>\n",
       "      <td>-0.871610</td>\n",
       "      <td>0.418278</td>\n",
       "    </tr>\n",
       "    <tr>\n",
       "      <th>oil</th>\n",
       "      <td>-0.890792</td>\n",
       "      <td>0.410331</td>\n",
       "    </tr>\n",
       "  </tbody>\n",
       "</table>\n",
       "<p>358862 rows × 2 columns</p>\n",
       "</div>"
      ],
      "text/plain": [
       "                 coef  exp_coef\n",
       "features                       \n",
       "hawaii       0.910285  2.485032\n",
       "career       0.778970  2.179227\n",
       "awesome      0.578598  1.783537\n",
       "cat          0.550458  1.734047\n",
       "tidal        0.535616  1.708500\n",
       "...               ...       ...\n",
       "coronavirus -0.766913  0.464445\n",
       "opec        -0.784525  0.456337\n",
       "shale       -0.822101  0.439507\n",
       "hydrogen    -0.871610  0.418278\n",
       "oil         -0.890792  0.410331\n",
       "\n",
       "[358862 rows x 2 columns]"
      ]
     },
     "execution_count": 24,
     "metadata": {},
     "output_type": "execute_result"
    }
   ],
   "source": [
    "coef_df"
   ]
  },
  {
   "cell_type": "code",
   "execution_count": 25,
   "metadata": {
    "scrolled": true
   },
   "outputs": [
    {
     "data": {
      "text/plain": [
       "features\n",
       "barrel         0.560970\n",
       "saudi          0.551022\n",
       "sticker        0.520579\n",
       "bailout        0.501708\n",
       "lng            0.501319\n",
       "coronavirus    0.464445\n",
       "opec           0.456337\n",
       "shale          0.439507\n",
       "hydrogen       0.418278\n",
       "oil            0.410331\n",
       "Name: exp_coef, dtype: float64"
      ]
     },
     "execution_count": 25,
     "metadata": {},
     "output_type": "execute_result"
    }
   ],
   "source": [
    "coef_df['exp_coef'].tail(10).sort_values(ascending = False)"
   ]
  },
  {
   "cell_type": "code",
   "execution_count": 26,
   "metadata": {},
   "outputs": [
    {
     "data": {
      "text/plain": [
       "features\n",
       "hawaii         2.485032\n",
       "career         2.179227\n",
       "awesome        1.783537\n",
       "cat            1.734047\n",
       "tidal          1.708500\n",
       "engineering    1.703300\n",
       "gas plant      1.701930\n",
       "synthetic      1.692497\n",
       "location       1.692481\n",
       "fission        1.692413\n",
       "Name: exp_coef, dtype: float64"
      ]
     },
     "execution_count": 26,
     "metadata": {},
     "output_type": "execute_result"
    }
   ],
   "source": [
    "coef_df['exp_coef'].head(10).sort_values(ascending = False)"
   ]
  },
  {
   "cell_type": "code",
   "execution_count": 27,
   "metadata": {
    "scrolled": true
   },
   "outputs": [
    {
     "data": {
      "image/png": "[encoded data removed]",
      "text/plain": [
       "<Figure size 720x720 with 1 Axes>"
      ]
     },
     "metadata": {
      "needs_background": "light"
     },
     "output_type": "display_data"
    }
   ],
   "source": [
    "weights = coef_df['exp_coef'].head(10).sort_values()\n",
    "labels = weights.index\n",
    "\n",
    "plt.figure(figsize=(10,10))\n",
    "plt.barh(labels, weights, color = 'red')\n",
    "plt.yticks(fontsize=20)\n",
    "plt.xticks(fontsize=20)\n",
    "plt.xlabel('Exp Coef', fontsize=30)\n",
    "plt.title(f'Top 10 Features - subreddit', fontsize=42)\n",
    "plt.tight_layout()\n",
    "plt.savefig('../plots/top_coef_reg_cvec.png', dpi=235)"
   ]
  },
  {
   "cell_type": "code",
   "execution_count": 28,
   "metadata": {},
   "outputs": [],
   "source": [
    "y_scores = gs_lr.predict_proba(X_test)[:, 1]"
   ]
  },
  {
   "cell_type": "code",
   "execution_count": 29,
   "metadata": {},
   "outputs": [],
   "source": [
    "p, r, thresholds = precision_recall_curve(y_test, y_scores)"
   ]
  },
  {
   "cell_type": "code",
   "execution_count": 30,
   "metadata": {},
   "outputs": [],
   "source": [
    "def plot_precision_recall_vs_threshold(precisions, recalls, thresholds):\n",
    "    plt.figure(figsize=(8, 8))\n",
    "    plt.title(\"Precision and Recall Scores as a function of the decision threshold\")\n",
    "    plt.plot(thresholds, precisions[:-1], \"b--\", label=\"Precision\")\n",
    "    plt.plot(thresholds, recalls[:-1], \"g-\", label=\"Recall\")\n",
    "    plt.ylabel(\"Score\")\n",
    "    plt.xlabel(\"Decision Threshold\")\n",
    "    plt.legend(loc='best')"
   ]
  },
  {
   "cell_type": "code",
   "execution_count": 31,
   "metadata": {},
   "outputs": [
    {
     "data": {
      "image/png": "[encoded data removed]",
      "text/plain": [
       "<Figure size 576x576 with 1 Axes>"
      ]
     },
     "metadata": {
      "needs_background": "light"
     },
     "output_type": "display_data"
    }
   ],
   "source": [
    "plot_precision_recall_vs_threshold(p,r,thresholds)\n",
    "plt.savefig('../plots/precsion_reg_cvec.png', dpi=235)"
   ]
  },
  {
   "cell_type": "markdown",
   "metadata": {},
   "source": [
    "## With TFIDF Log reg"
   ]
  },
  {
   "cell_type": "code",
   "execution_count": 32,
   "metadata": {},
   "outputs": [
    {
     "data": {
      "text/plain": [
       "0.8720434276851493"
      ]
     },
     "execution_count": 32,
     "metadata": {},
     "output_type": "execute_result"
    }
   ],
   "source": [
    "pipe_v3 = Pipeline([\n",
    "    ('features', FeatureUnion([\n",
    "            ('numeric_features', Pipeline([\n",
    "                ('selector', get_numeric_data),\n",
    "                ('ss', StandardScaler())\n",
    "            ])),\n",
    "            ('text_features', Pipeline([\n",
    "                ('selector', get_text_data),\n",
    "                ('tvec', TfidfVectorizer())\n",
    "            ]))\n",
    "    ])),\n",
    "    ('logreg', LogisticRegression(solver=\"liblinear\"))\n",
    "])\n",
    "\n",
    "params = {\n",
    "      \n",
    "        \n",
    "    'logreg__penalty' : ['l1', 'l2'],\n",
    "    'logreg__C' : [0.1,1],\n",
    "        'features__text_features__tvec__ngram_range': [(1,1),(1,2)],\n",
    "        #'features__text_features__tvec__max_features':[5000]\n",
    "        #'features__text_features__tvec__min_df': [3],\n",
    "        #'features__text_features__tvec__max_df': [0.4,.6, .9]\n",
    "    \n",
    "}\n",
    "\n",
    "gs_lr_tvec = GridSearchCV(pipe_v3, params, cv=5)\n",
    "\n",
    "gs_lr_tvec.fit(X_train, y_train)\n",
    "gs_lr_tvec.score(X_train, y_train)"
   ]
  },
  {
   "cell_type": "code",
   "execution_count": 33,
   "metadata": {},
   "outputs": [
    {
     "data": {
      "text/plain": [
       "{'features__text_features__tvec__ngram_range': (1, 2),\n",
       " 'logreg__C': 1,\n",
       " 'logreg__penalty': 'l2'}"
      ]
     },
     "execution_count": 33,
     "metadata": {},
     "output_type": "execute_result"
    }
   ],
   "source": [
    "gs_lr_tvec.best_params_"
   ]
  },
  {
   "cell_type": "code",
   "execution_count": 34,
   "metadata": {},
   "outputs": [
    {
     "data": {
      "text/plain": [
       "0.6593434996123029"
      ]
     },
     "execution_count": 34,
     "metadata": {},
     "output_type": "execute_result"
    }
   ],
   "source": [
    "gs_lr_tvec.score(X_test, y_test)"
   ]
  },
  {
   "cell_type": "code",
   "execution_count": 36,
   "metadata": {
    "scrolled": true
   },
   "outputs": [
    {
     "name": "stdout",
     "output_type": "stream",
     "text": [
      "Accuracy Score: 0.6593434996123029\n"
     ]
    },
    {
     "data": {
      "text/html": [
       "<div>\n",
       "<style scoped>\n",
       "    .dataframe tbody tr th:only-of-type {\n",
       "        vertical-align: middle;\n",
       "    }\n",
       "\n",
       "    .dataframe tbody tr th {\n",
       "        vertical-align: top;\n",
       "    }\n",
       "\n",
       "    .dataframe thead th {\n",
       "        text-align: right;\n",
       "    }\n",
       "</style>\n",
       "<table border=\"1\" class=\"dataframe\">\n",
       "  <thead>\n",
       "    <tr style=\"text-align: right;\">\n",
       "      <th></th>\n",
       "      <th>Predicted energy</th>\n",
       "      <th>Predicted renewable_energy</th>\n",
       "    </tr>\n",
       "  </thead>\n",
       "  <tbody>\n",
       "    <tr>\n",
       "      <th>Actual energy</th>\n",
       "      <td>2493</td>\n",
       "      <td>1369</td>\n",
       "    </tr>\n",
       "    <tr>\n",
       "      <th>Actual renewable_energy</th>\n",
       "      <td>1267</td>\n",
       "      <td>2609</td>\n",
       "    </tr>\n",
       "  </tbody>\n",
       "</table>\n",
       "</div>"
      ],
      "text/plain": [
       "                         Predicted energy  Predicted renewable_energy\n",
       "Actual energy                        2493                        1369\n",
       "Actual renewable_energy              1267                        2609"
      ]
     },
     "execution_count": 36,
     "metadata": {},
     "output_type": "execute_result"
    }
   ],
   "source": [
    "# build a function to print out a nice confusion matrix\n",
    "preds = gs_lr_tvec.best_estimator_.predict(X_test)\n",
    "\n",
    "nice_conmat(y_test, preds, ['energy', 'renewable_energy'])"
   ]
  },
  {
   "cell_type": "code",
   "execution_count": 37,
   "metadata": {},
   "outputs": [
    {
     "data": {
      "image/png": "[encoded data removed]",
      "text/plain": [
       "<Figure size 432x288 with 2 Axes>"
      ]
     },
     "metadata": {
      "needs_background": "light"
     },
     "output_type": "display_data"
    }
   ],
   "source": [
    "\n",
    "plot_confusion_matrix(gs_lr_tvec,\n",
    "                      X_test,\n",
    "                      y_test,\n",
    "                      display_labels=class_names,\n",
    "                     cmap=plt.cm.Blues,\n",
    "                    normalize=\"true\",\n",
    "                     );\n",
    "plt.savefig('../plots/cf_reg_tvec.png')"
   ]
  },
  {
   "cell_type": "code",
   "execution_count": 38,
   "metadata": {},
   "outputs": [],
   "source": [
    "features = gs_lr_tvec.best_estimator_.named_steps['features'].transformer_list[1][1].named_steps['tvec'].get_feature_names()\n",
    "coefficients = gs_lr_tvec.best_estimator_.named_steps['logreg'].coef_[0]\n",
    "\n",
    "coef_df=pd.DataFrame({'features': ['sentiment','simpe_class']+ features, \n",
    "              'coef' : coefficients,\n",
    "              'exp_coef': [np.exp(coef) for coef in coefficients]\n",
    "             })"
   ]
  },
  {
   "cell_type": "code",
   "execution_count": 39,
   "metadata": {},
   "outputs": [
    {
     "data": {
      "text/html": [
       "<div>\n",
       "<style scoped>\n",
       "    .dataframe tbody tr th:only-of-type {\n",
       "        vertical-align: middle;\n",
       "    }\n",
       "\n",
       "    .dataframe tbody tr th {\n",
       "        vertical-align: top;\n",
       "    }\n",
       "\n",
       "    .dataframe thead th {\n",
       "        text-align: right;\n",
       "    }\n",
       "</style>\n",
       "<table border=\"1\" class=\"dataframe\">\n",
       "  <thead>\n",
       "    <tr style=\"text-align: right;\">\n",
       "      <th></th>\n",
       "      <th>coef</th>\n",
       "      <th>exp_coef</th>\n",
       "    </tr>\n",
       "    <tr>\n",
       "      <th>features</th>\n",
       "      <th></th>\n",
       "      <th></th>\n",
       "    </tr>\n",
       "  </thead>\n",
       "  <tbody>\n",
       "    <tr>\n",
       "      <th>hawaii</th>\n",
       "      <td>3.184605</td>\n",
       "      <td>24.157749</td>\n",
       "    </tr>\n",
       "    <tr>\n",
       "      <th>career</th>\n",
       "      <td>2.512143</td>\n",
       "      <td>12.331332</td>\n",
       "    </tr>\n",
       "    <tr>\n",
       "      <th>engineering</th>\n",
       "      <td>2.279138</td>\n",
       "      <td>9.768254</td>\n",
       "    </tr>\n",
       "    <tr>\n",
       "      <th>wind</th>\n",
       "      <td>2.178621</td>\n",
       "      <td>8.834118</td>\n",
       "    </tr>\n",
       "    <tr>\n",
       "      <th>solar</th>\n",
       "      <td>2.139767</td>\n",
       "      <td>8.497456</td>\n",
       "    </tr>\n",
       "    <tr>\n",
       "      <th>turbine</th>\n",
       "      <td>2.031530</td>\n",
       "      <td>7.625744</td>\n",
       "    </tr>\n",
       "    <tr>\n",
       "      <th>uk</th>\n",
       "      <td>1.920434</td>\n",
       "      <td>6.823919</td>\n",
       "    </tr>\n",
       "    <tr>\n",
       "      <th>awesome</th>\n",
       "      <td>1.854419</td>\n",
       "      <td>6.387985</td>\n",
       "    </tr>\n",
       "    <tr>\n",
       "      <th>etc</th>\n",
       "      <td>1.811320</td>\n",
       "      <td>6.118521</td>\n",
       "    </tr>\n",
       "    <tr>\n",
       "      <th>panel</th>\n",
       "      <td>1.750774</td>\n",
       "      <td>5.759057</td>\n",
       "    </tr>\n",
       "  </tbody>\n",
       "</table>\n",
       "</div>"
      ],
      "text/plain": [
       "                 coef   exp_coef\n",
       "features                        \n",
       "hawaii       3.184605  24.157749\n",
       "career       2.512143  12.331332\n",
       "engineering  2.279138   9.768254\n",
       "wind         2.178621   8.834118\n",
       "solar        2.139767   8.497456\n",
       "turbine      2.031530   7.625744\n",
       "uk           1.920434   6.823919\n",
       "awesome      1.854419   6.387985\n",
       "etc          1.811320   6.118521\n",
       "panel        1.750774   5.759057"
      ]
     },
     "execution_count": 39,
     "metadata": {},
     "output_type": "execute_result"
    }
   ],
   "source": [
    "coef_df = coef_df.set_index('features')\n",
    "coef_df = coef_df.sort_values('exp_coef', ascending = False)\n",
    "coef_df.head(10)"
   ]
  },
  {
   "cell_type": "code",
   "execution_count": 57,
   "metadata": {
    "scrolled": false
   },
   "outputs": [
    {
     "data": {
      "text/plain": [
       "features\n",
       "panel           5.759057\n",
       "etc             6.118521\n",
       "awesome         6.387985\n",
       "uk              6.823919\n",
       "turbine         7.625744\n",
       "solar           8.497456\n",
       "wind            8.834118\n",
       "engineering     9.768254\n",
       "career         12.331332\n",
       "hawaii         24.157749\n",
       "Name: exp_coef, dtype: float64"
      ]
     },
     "execution_count": 57,
     "metadata": {},
     "output_type": "execute_result"
    }
   ],
   "source": [
    "coef_df['exp_coef'].head(10).sort_values()"
   ]
  },
  {
   "cell_type": "code",
   "execution_count": 66,
   "metadata": {},
   "outputs": [
    {
     "data": {
      "text/plain": [
       "1.1119387500753233"
      ]
     },
     "execution_count": 66,
     "metadata": {},
     "output_type": "execute_result"
    }
   ],
   "source": [
    "coef_df['exp_coef'][\"california\"]"
   ]
  },
  {
   "cell_type": "code",
   "execution_count": 41,
   "metadata": {},
   "outputs": [
    {
     "data": {
      "text/plain": [
       "features\n",
       "oil            0.000836\n",
       "hydrogen       0.000931\n",
       "market         0.031736\n",
       "shale          0.040048\n",
       "saudi          0.057824\n",
       "price          0.071738\n",
       "opec           0.078174\n",
       "coronavirus    0.090604\n",
       "lng            0.105875\n",
       "worker         0.109405\n",
       "Name: exp_coef, dtype: float64"
      ]
     },
     "execution_count": 41,
     "metadata": {},
     "output_type": "execute_result"
    }
   ],
   "source": [
    "coef_df['exp_coef'].tail(10).sort_values()"
   ]
  },
  {
   "cell_type": "code",
   "execution_count": 42,
   "metadata": {
    "scrolled": true
   },
   "outputs": [
    {
     "data": {
      "image/png": "[encoded data removed]",
      "text/plain": [
       "<Figure size 720x720 with 1 Axes>"
      ]
     },
     "metadata": {
      "needs_background": "light"
     },
     "output_type": "display_data"
    }
   ],
   "source": [
    "weights = coef_df['exp_coef'].head(10).sort_values()\n",
    "labels = weights.index\n",
    "\n",
    "plt.figure(figsize=(10,10))\n",
    "plt.barh(labels, weights, color = 'red')\n",
    "plt.yticks(fontsize=20)\n",
    "plt.xticks(fontsize=20)\n",
    "plt.xlabel('Exp Coef', fontsize=30)\n",
    "plt.title(f'Top 10 Features - subreddit', fontsize=42)\n",
    "plt.tight_layout()\n",
    "plt.savefig('../plots/top_coef_reg_tvec.png', dpi=235)"
   ]
  },
  {
   "cell_type": "code",
   "execution_count": 43,
   "metadata": {},
   "outputs": [
    {
     "data": {
      "image/png": "[encoded data removed]",
      "text/plain": [
       "<Figure size 720x720 with 1 Axes>"
      ]
     },
     "metadata": {
      "needs_background": "light"
     },
     "output_type": "display_data"
    }
   ],
   "source": [
    "weights = coef_df['exp_coef'].tail(10).sort_values()\n",
    "labels = weights.index\n",
    "\n",
    "plt.figure(figsize=(10,10))\n",
    "plt.barh(labels, weights, color = 'red')\n",
    "plt.yticks(fontsize=20)\n",
    "plt.xticks(fontsize=20)\n",
    "plt.xlabel('Exp Coef', fontsize=30)\n",
    "plt.title(f'Top bottom 10 Features - subreddit', fontsize=42)\n",
    "plt.tight_layout()\n",
    "plt.savefig('../plots/top__bottom_coef_reg_tvec.png', dpi=235)"
   ]
  },
  {
   "cell_type": "code",
   "execution_count": 44,
   "metadata": {
    "scrolled": false
   },
   "outputs": [
    {
     "data": {
      "text/html": [
       "<div>\n",
       "<style scoped>\n",
       "    .dataframe tbody tr th:only-of-type {\n",
       "        vertical-align: middle;\n",
       "    }\n",
       "\n",
       "    .dataframe tbody tr th {\n",
       "        vertical-align: top;\n",
       "    }\n",
       "\n",
       "    .dataframe thead th {\n",
       "        text-align: right;\n",
       "    }\n",
       "</style>\n",
       "<table border=\"1\" class=\"dataframe\">\n",
       "  <thead>\n",
       "    <tr style=\"text-align: right;\">\n",
       "      <th></th>\n",
       "      <th>subreddit</th>\n",
       "      <th>sentiment</th>\n",
       "      <th>cleaned_text</th>\n",
       "      <th>simpe_class</th>\n",
       "    </tr>\n",
       "  </thead>\n",
       "  <tbody>\n",
       "    <tr>\n",
       "      <th>4030</th>\n",
       "      <td>0</td>\n",
       "      <td>-0.7003</td>\n",
       "      <td>would like see try lol whole point phev rarely...</td>\n",
       "      <td>0</td>\n",
       "    </tr>\n",
       "    <tr>\n",
       "      <th>4081</th>\n",
       "      <td>0</td>\n",
       "      <td>0.5499</td>\n",
       "      <td>believe one executive bmw big bevs left compan...</td>\n",
       "      <td>0</td>\n",
       "    </tr>\n",
       "    <tr>\n",
       "      <th>10245</th>\n",
       "      <td>0</td>\n",
       "      <td>-0.1280</td>\n",
       "      <td>u drilling rig count drop rig month</td>\n",
       "      <td>0</td>\n",
       "    </tr>\n",
       "    <tr>\n",
       "      <th>13175</th>\n",
       "      <td>0</td>\n",
       "      <td>0.2732</td>\n",
       "      <td>conservation week</td>\n",
       "      <td>0</td>\n",
       "    </tr>\n",
       "    <tr>\n",
       "      <th>14972</th>\n",
       "      <td>0</td>\n",
       "      <td>0.0000</td>\n",
       "      <td>searching spray dryer get know everything spra...</td>\n",
       "      <td>0</td>\n",
       "    </tr>\n",
       "    <tr>\n",
       "      <th>15938</th>\n",
       "      <td>0</td>\n",
       "      <td>0.2732</td>\n",
       "      <td>new michael moore backed doc tackle alternative</td>\n",
       "      <td>0</td>\n",
       "    </tr>\n",
       "    <tr>\n",
       "      <th>15963</th>\n",
       "      <td>0</td>\n",
       "      <td>0.2732</td>\n",
       "      <td>wind  industry exceed bn revenue</td>\n",
       "      <td>1</td>\n",
       "    </tr>\n",
       "    <tr>\n",
       "      <th>16606</th>\n",
       "      <td>0</td>\n",
       "      <td>0.6801</td>\n",
       "      <td>world first aberdeen city order double decker ...</td>\n",
       "      <td>0</td>\n",
       "    </tr>\n",
       "    <tr>\n",
       "      <th>16729</th>\n",
       "      <td>0</td>\n",
       "      <td>0.2960</td>\n",
       "      <td>time get serious recycling lithium ion battery...</td>\n",
       "      <td>0</td>\n",
       "    </tr>\n",
       "    <tr>\n",
       "      <th>17850</th>\n",
       "      <td>0</td>\n",
       "      <td>0.0000</td>\n",
       "      <td>world second epr nuclear reactor start work china</td>\n",
       "      <td>0</td>\n",
       "    </tr>\n",
       "    <tr>\n",
       "      <th>18064</th>\n",
       "      <td>0</td>\n",
       "      <td>0.3818</td>\n",
       "      <td>offshore oilfield service growth likely halve</td>\n",
       "      <td>0</td>\n",
       "    </tr>\n",
       "    <tr>\n",
       "      <th>18593</th>\n",
       "      <td>0</td>\n",
       "      <td>0.0152</td>\n",
       "      <td>boost  tired day</td>\n",
       "      <td>0</td>\n",
       "    </tr>\n",
       "    <tr>\n",
       "      <th>18769</th>\n",
       "      <td>0</td>\n",
       "      <td>0.0000</td>\n",
       "      <td>california need solar panel</td>\n",
       "      <td>1</td>\n",
       "    </tr>\n",
       "  </tbody>\n",
       "</table>\n",
       "</div>"
      ],
      "text/plain": [
       "       subreddit  sentiment  \\\n",
       "4030           0    -0.7003   \n",
       "4081           0     0.5499   \n",
       "10245          0    -0.1280   \n",
       "13175          0     0.2732   \n",
       "14972          0     0.0000   \n",
       "15938          0     0.2732   \n",
       "15963          0     0.2732   \n",
       "16606          0     0.6801   \n",
       "16729          0     0.2960   \n",
       "17850          0     0.0000   \n",
       "18064          0     0.3818   \n",
       "18593          0     0.0152   \n",
       "18769          0     0.0000   \n",
       "\n",
       "                                            cleaned_text  simpe_class  \n",
       "4030   would like see try lol whole point phev rarely...            0  \n",
       "4081   believe one executive bmw big bevs left compan...            0  \n",
       "10245                u drilling rig count drop rig month            0  \n",
       "13175                                  conservation week            0  \n",
       "14972  searching spray dryer get know everything spra...            0  \n",
       "15938   new michael moore backed doc tackle alternative             0  \n",
       "15963                   wind  industry exceed bn revenue            1  \n",
       "16606  world first aberdeen city order double decker ...            0  \n",
       "16729  time get serious recycling lithium ion battery...            0  \n",
       "17850  world second epr nuclear reactor start work china            0  \n",
       "18064      offshore oilfield service growth likely halve            0  \n",
       "18593                                   boost  tired day            0  \n",
       "18769                        california need solar panel            1  "
      ]
     },
     "execution_count": 44,
     "metadata": {},
     "output_type": "execute_result"
    }
   ],
   "source": [
    "a=[]\n",
    "for i,items in enumerate(df[\"cleaned_text\"]):\n",
    "    if \"hawaii\" in items.split():\n",
    "        a.append(i)\n",
    "        \n",
    "df[df.index.isin(a)][df[\"subreddit\"]==0]     "
   ]
  },
  {
   "cell_type": "markdown",
   "metadata": {},
   "source": [
    "### KNN with pipeline and grid search "
   ]
  },
  {
   "cell_type": "code",
   "execution_count": 45,
   "metadata": {},
   "outputs": [
    {
     "data": {
      "text/plain": [
       "0.6734845547369781"
      ]
     },
     "execution_count": 45,
     "metadata": {},
     "output_type": "execute_result"
    }
   ],
   "source": [
    "pipe_v3 = Pipeline([\n",
    "    ('features', FeatureUnion([\n",
    "            ('numeric_features', Pipeline([\n",
    "                ('selector', get_numeric_data),\n",
    "                ('ss', StandardScaler())\n",
    "            ])),\n",
    "            ('text_features', Pipeline([\n",
    "                ('selector', get_text_data),\n",
    "                ('cvec', CountVectorizer())\n",
    "            ]))\n",
    "    ])),\n",
    "    ('knn', KNeighborsClassifier())\n",
    "])\n",
    "\n",
    "params = {\n",
    "        'knn__n_neighbors':[12],\n",
    "        #'knn__p':[1,2],#1 is manhattan and 2 is euclidian \n",
    "        #'cvec__stop_words' : [None, 'english'],\n",
    "        'features__text_features__cvec__max_features': [1000,2_000],\n",
    "        'features__text_features__cvec__min_df': [2],\n",
    "        #'features__text_features__cvec__max_df': [.4,0.5]\n",
    "}\n",
    "gs_knn = GridSearchCV(pipe_v3, params, cv=5)\n",
    "\n",
    "gs_knn.fit(X_train, y_train)\n",
    "gs_knn.score(X_train, y_train)\n",
    "  "
   ]
  },
  {
   "cell_type": "code",
   "execution_count": 46,
   "metadata": {},
   "outputs": [
    {
     "data": {
      "text/plain": [
       "{'features__text_features__cvec__max_features': 2000,\n",
       " 'features__text_features__cvec__min_df': 2,\n",
       " 'knn__n_neighbors': 12}"
      ]
     },
     "execution_count": 46,
     "metadata": {},
     "output_type": "execute_result"
    }
   ],
   "source": [
    "gs_knn.best_params_"
   ]
  },
  {
   "cell_type": "code",
   "execution_count": 47,
   "metadata": {},
   "outputs": [
    {
     "data": {
      "text/plain": [
       "0.5920134401654175"
      ]
     },
     "execution_count": 47,
     "metadata": {},
     "output_type": "execute_result"
    }
   ],
   "source": [
    "gs_knn.score(X_test, y_test)"
   ]
  },
  {
   "cell_type": "code",
   "execution_count": 48,
   "metadata": {
    "scrolled": true
   },
   "outputs": [
    {
     "name": "stdout",
     "output_type": "stream",
     "text": [
      "Accuracy Score: 0.5920134401654175\n"
     ]
    }
   ],
   "source": [
    "# build a function to print out a nice confusion matrix\n",
    "preds = gs_knn.best_estimator_.predict(X_test)\n",
    "\n",
    "cf_knn=nice_conmat(y_test, preds, ['energy', 'renewable_energy'])"
   ]
  },
  {
   "cell_type": "code",
   "execution_count": 49,
   "metadata": {
    "scrolled": true
   },
   "outputs": [
    {
     "data": {
      "text/html": [
       "<div>\n",
       "<style scoped>\n",
       "    .dataframe tbody tr th:only-of-type {\n",
       "        vertical-align: middle;\n",
       "    }\n",
       "\n",
       "    .dataframe tbody tr th {\n",
       "        vertical-align: top;\n",
       "    }\n",
       "\n",
       "    .dataframe thead th {\n",
       "        text-align: right;\n",
       "    }\n",
       "</style>\n",
       "<table border=\"1\" class=\"dataframe\">\n",
       "  <thead>\n",
       "    <tr style=\"text-align: right;\">\n",
       "      <th></th>\n",
       "      <th>Predicted energy</th>\n",
       "      <th>Predicted renewable_energy</th>\n",
       "    </tr>\n",
       "  </thead>\n",
       "  <tbody>\n",
       "    <tr>\n",
       "      <th>Actual energy</th>\n",
       "      <td>2336</td>\n",
       "      <td>1526</td>\n",
       "    </tr>\n",
       "    <tr>\n",
       "      <th>Actual renewable_energy</th>\n",
       "      <td>1631</td>\n",
       "      <td>2245</td>\n",
       "    </tr>\n",
       "  </tbody>\n",
       "</table>\n",
       "</div>"
      ],
      "text/plain": [
       "                         Predicted energy  Predicted renewable_energy\n",
       "Actual energy                        2336                        1526\n",
       "Actual renewable_energy              1631                        2245"
      ]
     },
     "execution_count": 49,
     "metadata": {},
     "output_type": "execute_result"
    }
   ],
   "source": [
    "cf_knn"
   ]
  },
  {
   "cell_type": "code",
   "execution_count": 50,
   "metadata": {},
   "outputs": [],
   "source": [
    "class_names=[\"Renewable_Energy\",\"Energy\"]"
   ]
  },
  {
   "cell_type": "code",
   "execution_count": 51,
   "metadata": {},
   "outputs": [
    {
     "data": {
      "image/png": "[encoded data removed]",
      "text/plain": [
       "<Figure size 432x288 with 2 Axes>"
      ]
     },
     "metadata": {
      "needs_background": "light"
     },
     "output_type": "display_data"
    }
   ],
   "source": [
    "\n",
    "plot_confusion_matrix(gs_knn,\n",
    "                      X_test,\n",
    "                      y_test,\n",
    "                      display_labels=class_names,\n",
    "                     cmap=plt.cm.Blues,\n",
    "                    normalize=\"true\",\n",
    "                     );\n",
    "plt.savefig('../plots/cf_knn.png', dpi=235)"
   ]
  },
  {
   "cell_type": "code",
   "execution_count": 52,
   "metadata": {},
   "outputs": [],
   "source": [
    "y_scores = gs_knn.predict_proba(X_test)[:, 1]"
   ]
  },
  {
   "cell_type": "code",
   "execution_count": 53,
   "metadata": {},
   "outputs": [],
   "source": [
    "p, r, thresholds = precision_recall_curve(y_test, y_scores)"
   ]
  },
  {
   "cell_type": "code",
   "execution_count": 54,
   "metadata": {},
   "outputs": [
    {
     "data": {
      "image/png": "[encoded data removed]",
      "text/plain": [
       "<Figure size 576x576 with 1 Axes>"
      ]
     },
     "metadata": {
      "needs_background": "light"
     },
     "output_type": "display_data"
    }
   ],
   "source": [
    "plot_precision_recall_vs_threshold(p,r,thresholds)\n",
    "plt.savefig('../plots/precision_knn.png', dpi=235)"
   ]
  },
  {
   "cell_type": "markdown",
   "metadata": {},
   "source": [
    "### Comparing models with ROC AUC curves"
   ]
  },
  {
   "cell_type": "code",
   "execution_count": 55,
   "metadata": {
    "scrolled": true
   },
   "outputs": [
    {
     "data": {
      "image/png": "[encoded data removed]",
      "text/plain": [
       "<Figure size 720x720 with 1 Axes>"
      ]
     },
     "metadata": {
      "needs_background": "light"
     },
     "output_type": "display_data"
    }
   ],
   "source": [
    "models = [\n",
    "{\n",
    "    'label': 'Logistic Regression_countvectorizer',\n",
    "    'model':gs_lr,\n",
    "},\n",
    "{\n",
    "    'label': 'KNeighborsClassifier',\n",
    "    'model': gs_knn,\n",
    "},\n",
    "    {\n",
    "    'label': 'Logistic Regression_TFIDF',\n",
    "    'model':gs_lr_tvec,\n",
    "}\n",
    "]\n",
    "plt.figure(figsize=(10,10))\n",
    "# Below for loop iterates through your models list\n",
    "for m in models:\n",
    "    model = m['model'] # select the model\n",
    "    model.fit(X_train, y_train) # train the model\n",
    "    y_pred=model.predict(X_test) # predict the test data\n",
    "# Compute False postive rate, and True positive rate\n",
    "    fpr, tpr, thresholds = metrics.roc_curve(y_test, model.predict_proba(X_test)[:,1])\n",
    "# Calculate Area under the curve to display on the plot\n",
    "    auc = metrics.roc_auc_score(y_test,model.predict(X_test))\n",
    "# Now, plot the computed values\n",
    "    plt.plot(fpr, tpr, label='%s ROC (area = %0.2f)' % (m['label'], auc))\n",
    "# Custom settings for the plot \n",
    "\n",
    "plt.plot([0, 1], [0, 1],'r--')\n",
    "plt.xlim([0.0, 1.0])\n",
    "plt.ylim([0.0, 1.05])\n",
    "plt.xlabel('1-Specificity(False Positive Rate)')\n",
    "plt.ylabel('Sensitivity(True Positive Rate)')\n",
    "plt.title('Receiver Operating Characteristic')\n",
    "plt.legend(loc=\"lower right\")\n",
    "plt.savefig('../plots/roc_auc.png', dpi=235)\n",
    "#plt.show()   # Display"
   ]
  },
  {
   "cell_type": "code",
   "execution_count": null,
   "metadata": {},
   "outputs": [],
   "source": []
  },
  {
   "cell_type": "code",
   "execution_count": null,
   "metadata": {},
   "outputs": [],
   "source": []
  },
  {
   "cell_type": "code",
   "execution_count": null,
   "metadata": {},
   "outputs": [],
   "source": []
  }
 ],
 "metadata": {
  "kernelspec": {
   "display_name": "Python 3",
   "language": "python",
   "name": "python3"
  },
  "language_info": {
   "codemirror_mode": {
    "name": "ipython",
    "version": 3
   },
   "file_extension": ".py",
   "mimetype": "text/x-python",
   "name": "python",
   "nbconvert_exporter": "python",
   "pygments_lexer": "ipython3",
   "version": "3.7.6"
  }
 },
 "nbformat": 4,
 "nbformat_minor": 4
}
