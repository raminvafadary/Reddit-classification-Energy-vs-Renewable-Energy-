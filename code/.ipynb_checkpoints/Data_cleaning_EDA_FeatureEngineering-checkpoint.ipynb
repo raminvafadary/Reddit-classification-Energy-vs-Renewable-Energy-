{
 "cells": [
  {
   "cell_type": "code",
   "execution_count": 1,
   "metadata": {},
   "outputs": [],
   "source": [
    "#importing libraries\n",
    "import pandas as pd\n",
    "import numpy as np\n",
    "import nltk\n",
    "from nltk.stem import WordNetLemmatizer\n",
    "from nltk.tokenize import RegexpTokenizer\n",
    "import regex as re\n",
    "from nltk.stem import WordNetLemmatizer\n",
    "from nltk.stem.porter import PorterStemmer\n",
    "from bs4 import BeautifulSoup \n",
    "from nltk.corpus import stopwords\n",
    "from nltk.sentiment.vader import SentimentIntensityAnalyzer\n",
    "import matplotlib.pyplot as plt\n",
    "import seaborn as sns\n",
    "from sklearn.feature_extraction.text import CountVectorizer, TfidfVectorizer\n",
    "#nltk.download('stopwords')\n",
    "import warnings\n",
    "warnings.filterwarnings('ignore')"
   ]
  },
  {
   "cell_type": "code",
   "execution_count": 2,
   "metadata": {
    "scrolled": true
   },
   "outputs": [
    {
     "data": {
      "text/html": [
       "<div>\n",
       "<style scoped>\n",
       "    .dataframe tbody tr th:only-of-type {\n",
       "        vertical-align: middle;\n",
       "    }\n",
       "\n",
       "    .dataframe tbody tr th {\n",
       "        vertical-align: top;\n",
       "    }\n",
       "\n",
       "    .dataframe thead th {\n",
       "        text-align: right;\n",
       "    }\n",
       "</style>\n",
       "<table border=\"1\" class=\"dataframe\">\n",
       "  <thead>\n",
       "    <tr style=\"text-align: right;\">\n",
       "      <th></th>\n",
       "      <th>text</th>\n",
       "      <th>subreddit</th>\n",
       "      <th>score</th>\n",
       "      <th>num_comments</th>\n",
       "    </tr>\n",
       "  </thead>\n",
       "  <tbody>\n",
       "    <tr>\n",
       "      <th>39995</th>\n",
       "      <td>Trump begins his witchhunt against Green Energ...</td>\n",
       "      <td>RenewableEnergy</td>\n",
       "      <td>261</td>\n",
       "      <td>90.0</td>\n",
       "    </tr>\n",
       "    <tr>\n",
       "      <th>39996</th>\n",
       "      <td>New Report: Switch to a Clean Energy Economy “...</td>\n",
       "      <td>RenewableEnergy</td>\n",
       "      <td>1</td>\n",
       "      <td>0.0</td>\n",
       "    </tr>\n",
       "    <tr>\n",
       "      <th>39997</th>\n",
       "      <td>Buy vs. Lease Solar Panels: Which Option Is Be...</td>\n",
       "      <td>RenewableEnergy</td>\n",
       "      <td>1</td>\n",
       "      <td>0.0</td>\n",
       "    </tr>\n",
       "    <tr>\n",
       "      <th>39998</th>\n",
       "      <td>Residential Solar Water Heater Idea</td>\n",
       "      <td>RenewableEnergy</td>\n",
       "      <td>11</td>\n",
       "      <td>7.0</td>\n",
       "    </tr>\n",
       "    <tr>\n",
       "      <th>39999</th>\n",
       "      <td>Port Of Long Beach Goes Greener With Solar Car...</td>\n",
       "      <td>RenewableEnergy</td>\n",
       "      <td>15</td>\n",
       "      <td>0.0</td>\n",
       "    </tr>\n",
       "  </tbody>\n",
       "</table>\n",
       "</div>"
      ],
      "text/plain": [
       "                                                    text        subreddit  \\\n",
       "39995  Trump begins his witchhunt against Green Energ...  RenewableEnergy   \n",
       "39996  New Report: Switch to a Clean Energy Economy “...  RenewableEnergy   \n",
       "39997  Buy vs. Lease Solar Panels: Which Option Is Be...  RenewableEnergy   \n",
       "39998                Residential Solar Water Heater Idea  RenewableEnergy   \n",
       "39999  Port Of Long Beach Goes Greener With Solar Car...  RenewableEnergy   \n",
       "\n",
       "       score  num_comments  \n",
       "39995    261          90.0  \n",
       "39996      1           0.0  \n",
       "39997      1           0.0  \n",
       "39998     11           7.0  \n",
       "39999     15           0.0  "
      ]
     },
     "execution_count": 2,
     "metadata": {},
     "output_type": "execute_result"
    }
   ],
   "source": [
    "#reading data\n",
    "df=pd.read_csv(\"../datasets/df.csv\")\n",
    "df.tail()"
   ]
  },
  {
   "cell_type": "code",
   "execution_count": 3,
   "metadata": {},
   "outputs": [],
   "source": [
    "\n",
    "df['subreddit'] = [1 if i == 'RenewableEnergy' else 0 for i in df['subreddit']]"
   ]
  },
  {
   "cell_type": "code",
   "execution_count": 4,
   "metadata": {
    "scrolled": true
   },
   "outputs": [
    {
     "data": {
      "text/html": [
       "<div>\n",
       "<style scoped>\n",
       "    .dataframe tbody tr th:only-of-type {\n",
       "        vertical-align: middle;\n",
       "    }\n",
       "\n",
       "    .dataframe tbody tr th {\n",
       "        vertical-align: top;\n",
       "    }\n",
       "\n",
       "    .dataframe thead th {\n",
       "        text-align: right;\n",
       "    }\n",
       "</style>\n",
       "<table border=\"1\" class=\"dataframe\">\n",
       "  <thead>\n",
       "    <tr style=\"text-align: right;\">\n",
       "      <th></th>\n",
       "      <th>text</th>\n",
       "      <th>subreddit</th>\n",
       "      <th>score</th>\n",
       "      <th>num_comments</th>\n",
       "    </tr>\n",
       "  </thead>\n",
       "  <tbody>\n",
       "    <tr>\n",
       "      <th>0</th>\n",
       "      <td>&amp;gt;the article is about \"new\" cars, not \"all\"...</td>\n",
       "      <td>0</td>\n",
       "      <td>1</td>\n",
       "      <td>0.0</td>\n",
       "    </tr>\n",
       "    <tr>\n",
       "      <th>1</th>\n",
       "      <td>What a non-sense article. Good luck trying to ...</td>\n",
       "      <td>0</td>\n",
       "      <td>2</td>\n",
       "      <td>0.0</td>\n",
       "    </tr>\n",
       "    <tr>\n",
       "      <th>2</th>\n",
       "      <td>Tesla semi will be a game changer for this</td>\n",
       "      <td>0</td>\n",
       "      <td>1</td>\n",
       "      <td>0.0</td>\n",
       "    </tr>\n",
       "    <tr>\n",
       "      <th>3</th>\n",
       "      <td>Well, you know, I oversimplified.  They are tr...</td>\n",
       "      <td>0</td>\n",
       "      <td>1</td>\n",
       "      <td>0.0</td>\n",
       "    </tr>\n",
       "    <tr>\n",
       "      <th>4</th>\n",
       "      <td>90 miles is 144.84 km</td>\n",
       "      <td>0</td>\n",
       "      <td>1</td>\n",
       "      <td>0.0</td>\n",
       "    </tr>\n",
       "    <tr>\n",
       "      <th>...</th>\n",
       "      <td>...</td>\n",
       "      <td>...</td>\n",
       "      <td>...</td>\n",
       "      <td>...</td>\n",
       "    </tr>\n",
       "    <tr>\n",
       "      <th>39995</th>\n",
       "      <td>Trump begins his witchhunt against Green Energ...</td>\n",
       "      <td>1</td>\n",
       "      <td>261</td>\n",
       "      <td>90.0</td>\n",
       "    </tr>\n",
       "    <tr>\n",
       "      <th>39996</th>\n",
       "      <td>New Report: Switch to a Clean Energy Economy “...</td>\n",
       "      <td>1</td>\n",
       "      <td>1</td>\n",
       "      <td>0.0</td>\n",
       "    </tr>\n",
       "    <tr>\n",
       "      <th>39997</th>\n",
       "      <td>Buy vs. Lease Solar Panels: Which Option Is Be...</td>\n",
       "      <td>1</td>\n",
       "      <td>1</td>\n",
       "      <td>0.0</td>\n",
       "    </tr>\n",
       "    <tr>\n",
       "      <th>39998</th>\n",
       "      <td>Residential Solar Water Heater Idea</td>\n",
       "      <td>1</td>\n",
       "      <td>11</td>\n",
       "      <td>7.0</td>\n",
       "    </tr>\n",
       "    <tr>\n",
       "      <th>39999</th>\n",
       "      <td>Port Of Long Beach Goes Greener With Solar Car...</td>\n",
       "      <td>1</td>\n",
       "      <td>15</td>\n",
       "      <td>0.0</td>\n",
       "    </tr>\n",
       "  </tbody>\n",
       "</table>\n",
       "<p>40000 rows × 4 columns</p>\n",
       "</div>"
      ],
      "text/plain": [
       "                                                    text  subreddit  score  \\\n",
       "0      &gt;the article is about \"new\" cars, not \"all\"...          0      1   \n",
       "1      What a non-sense article. Good luck trying to ...          0      2   \n",
       "2             Tesla semi will be a game changer for this          0      1   \n",
       "3      Well, you know, I oversimplified.  They are tr...          0      1   \n",
       "4                                  90 miles is 144.84 km          0      1   \n",
       "...                                                  ...        ...    ...   \n",
       "39995  Trump begins his witchhunt against Green Energ...          1    261   \n",
       "39996  New Report: Switch to a Clean Energy Economy “...          1      1   \n",
       "39997  Buy vs. Lease Solar Panels: Which Option Is Be...          1      1   \n",
       "39998                Residential Solar Water Heater Idea          1     11   \n",
       "39999  Port Of Long Beach Goes Greener With Solar Car...          1     15   \n",
       "\n",
       "       num_comments  \n",
       "0               0.0  \n",
       "1               0.0  \n",
       "2               0.0  \n",
       "3               0.0  \n",
       "4               0.0  \n",
       "...             ...  \n",
       "39995          90.0  \n",
       "39996           0.0  \n",
       "39997           0.0  \n",
       "39998           7.0  \n",
       "39999           0.0  \n",
       "\n",
       "[40000 rows x 4 columns]"
      ]
     },
     "execution_count": 4,
     "metadata": {},
     "output_type": "execute_result"
    }
   ],
   "source": [
    "df"
   ]
  },
  {
   "cell_type": "code",
   "execution_count": 5,
   "metadata": {
    "scrolled": true
   },
   "outputs": [
    {
     "data": {
      "text/plain": [
       "0"
      ]
     },
     "execution_count": 5,
     "metadata": {},
     "output_type": "execute_result"
    }
   ],
   "source": [
    "df.isnull().sum().sum()"
   ]
  },
  {
   "cell_type": "markdown",
   "metadata": {},
   "source": [
    "## sentiment analyzer"
   ]
  },
  {
   "cell_type": "code",
   "execution_count": 6,
   "metadata": {},
   "outputs": [],
   "source": [
    "# instantiate the sentiment analyzer\n",
    "sia = SentimentIntensityAnalyzer()"
   ]
  },
  {
   "cell_type": "code",
   "execution_count": 7,
   "metadata": {},
   "outputs": [],
   "source": [
    "# Write a function to get the compound sentiment scores for a post\n",
    "def get_compound_sentiment(post):\n",
    "    return sia.polarity_scores(post)['compound']"
   ]
  },
  {
   "cell_type": "code",
   "execution_count": 8,
   "metadata": {},
   "outputs": [],
   "source": [
    "df['sentiment'] = df['text'].apply(get_compound_sentiment)"
   ]
  },
  {
   "cell_type": "code",
   "execution_count": 9,
   "metadata": {},
   "outputs": [
    {
     "data": {
      "text/plain": [
       "0.0873387319851582"
      ]
     },
     "execution_count": 9,
     "metadata": {},
     "output_type": "execute_result"
    }
   ],
   "source": [
    "df['subreddit'].corr(df['sentiment'])"
   ]
  },
  {
   "cell_type": "markdown",
   "metadata": {},
   "source": [
    "## EDA"
   ]
  },
  {
   "cell_type": "markdown",
   "metadata": {},
   "source": [
    "## Data cleaning function for text data"
   ]
  },
  {
   "cell_type": "code",
   "execution_count": 10,
   "metadata": {},
   "outputs": [],
   "source": [
    "def text_to_words(raw_review):\n",
    "    # 1. Remove HTML.\n",
    "    review_text = BeautifulSoup(raw_review).get_text()\n",
    "    \n",
    "    # 2. Remove non-letters.\n",
    "    letters_only = re.sub(\"[^a-zA-Z]\", \" \", review_text)\n",
    "    \n",
    "    # 3. Convert to lower case, split into individual words.\n",
    "    words = letters_only.lower().split()\n",
    "    \n",
    "    # 4. In Python, searching a set is much faster than searching\n",
    "    # a list, so convert the stopwords to a set.\n",
    "    stops = set(stopwords.words('english'))#,'energy','renewable'))\n",
    "    \n",
    "    # 5. Remove stopwords.\n",
    "    meaningful_words = [w for w in words if not w in stops]\n",
    "    \n",
    "    #6.lemmatizing\n",
    "    lemmatizer = WordNetLemmatizer()\n",
    "    lemmmatized_words=[lemmatizer.lemmatize(i) for i in meaningful_words]\n",
    "    \n",
    "    # 7. Join the words back into one string separated by space, \n",
    "    # and return the result.\n",
    "    return(\" \".join(lemmmatized_words))"
   ]
  },
  {
   "cell_type": "markdown",
   "metadata": {},
   "source": [
    "## Apply cleaning function"
   ]
  },
  {
   "cell_type": "code",
   "execution_count": 11,
   "metadata": {
    "scrolled": false
   },
   "outputs": [],
   "source": [
    "# Initialize an empty list to hold the clean text.\n",
    "clean_text = []\n",
    "total_reviews = df.shape[0]\n",
    "for train_review in df['text']:\n",
    "    \n",
    "    # Convert review to words, then append to clean_train_reviews.\n",
    "    clean_text.append(text_to_words(train_review))"
   ]
  },
  {
   "cell_type": "code",
   "execution_count": 12,
   "metadata": {},
   "outputs": [],
   "source": [
    "df[\"cleaned_text\"]=clean_text"
   ]
  },
  {
   "cell_type": "code",
   "execution_count": 13,
   "metadata": {},
   "outputs": [],
   "source": [
    "df['cleaned_text'] = df['cleaned_text'].map(lambda x: re.sub('renewable', '', x))"
   ]
  },
  {
   "cell_type": "code",
   "execution_count": 14,
   "metadata": {},
   "outputs": [],
   "source": [
    "df['cleaned_text'] = df['cleaned_text'].map(lambda x: re.sub('energy', '', x))"
   ]
  },
  {
   "cell_type": "code",
   "execution_count": 15,
   "metadata": {},
   "outputs": [],
   "source": [
    "df['cleaned_text'] = df['cleaned_text'].map(lambda x: re.sub('renew', '', x))"
   ]
  },
  {
   "cell_type": "code",
   "execution_count": 16,
   "metadata": {
    "scrolled": true
   },
   "outputs": [
    {
     "data": {
      "text/html": [
       "<div>\n",
       "<style scoped>\n",
       "    .dataframe tbody tr th:only-of-type {\n",
       "        vertical-align: middle;\n",
       "    }\n",
       "\n",
       "    .dataframe tbody tr th {\n",
       "        vertical-align: top;\n",
       "    }\n",
       "\n",
       "    .dataframe thead th {\n",
       "        text-align: right;\n",
       "    }\n",
       "</style>\n",
       "<table border=\"1\" class=\"dataframe\">\n",
       "  <thead>\n",
       "    <tr style=\"text-align: right;\">\n",
       "      <th></th>\n",
       "      <th>text</th>\n",
       "      <th>subreddit</th>\n",
       "      <th>score</th>\n",
       "      <th>num_comments</th>\n",
       "      <th>sentiment</th>\n",
       "      <th>cleaned_text</th>\n",
       "    </tr>\n",
       "  </thead>\n",
       "  <tbody>\n",
       "    <tr>\n",
       "      <th>0</th>\n",
       "      <td>&amp;gt;the article is about \"new\" cars, not \"all\"...</td>\n",
       "      <td>0</td>\n",
       "      <td>1</td>\n",
       "      <td>0.0</td>\n",
       "      <td>0.9248</td>\n",
       "      <td>article new car car yes entire article basical...</td>\n",
       "    </tr>\n",
       "    <tr>\n",
       "      <th>1</th>\n",
       "      <td>What a non-sense article. Good luck trying to ...</td>\n",
       "      <td>0</td>\n",
       "      <td>2</td>\n",
       "      <td>0.0</td>\n",
       "      <td>0.7357</td>\n",
       "      <td>non sense article good luck trying move ton tr...</td>\n",
       "    </tr>\n",
       "    <tr>\n",
       "      <th>2</th>\n",
       "      <td>Tesla semi will be a game changer for this</td>\n",
       "      <td>0</td>\n",
       "      <td>1</td>\n",
       "      <td>0.0</td>\n",
       "      <td>0.0000</td>\n",
       "      <td>tesla semi game changer</td>\n",
       "    </tr>\n",
       "    <tr>\n",
       "      <th>3</th>\n",
       "      <td>Well, you know, I oversimplified.  They are tr...</td>\n",
       "      <td>0</td>\n",
       "      <td>1</td>\n",
       "      <td>0.0</td>\n",
       "      <td>0.8689</td>\n",
       "      <td>well know oversimplified trying regain market ...</td>\n",
       "    </tr>\n",
       "    <tr>\n",
       "      <th>4</th>\n",
       "      <td>90 miles is 144.84 km</td>\n",
       "      <td>0</td>\n",
       "      <td>1</td>\n",
       "      <td>0.0</td>\n",
       "      <td>0.0000</td>\n",
       "      <td>mile km</td>\n",
       "    </tr>\n",
       "    <tr>\n",
       "      <th>...</th>\n",
       "      <td>...</td>\n",
       "      <td>...</td>\n",
       "      <td>...</td>\n",
       "      <td>...</td>\n",
       "      <td>...</td>\n",
       "      <td>...</td>\n",
       "    </tr>\n",
       "    <tr>\n",
       "      <th>39995</th>\n",
       "      <td>Trump begins his witchhunt against Green Energ...</td>\n",
       "      <td>1</td>\n",
       "      <td>261</td>\n",
       "      <td>90.0</td>\n",
       "      <td>0.2732</td>\n",
       "      <td>trump begin witchhunt green  seek name departm...</td>\n",
       "    </tr>\n",
       "    <tr>\n",
       "      <th>39996</th>\n",
       "      <td>New Report: Switch to a Clean Energy Economy “...</td>\n",
       "      <td>1</td>\n",
       "      <td>1</td>\n",
       "      <td>0.0</td>\n",
       "      <td>0.5859</td>\n",
       "      <td>new report switch clean  economy irrevocably u...</td>\n",
       "    </tr>\n",
       "    <tr>\n",
       "      <th>39997</th>\n",
       "      <td>Buy vs. Lease Solar Panels: Which Option Is Be...</td>\n",
       "      <td>1</td>\n",
       "      <td>1</td>\n",
       "      <td>0.0</td>\n",
       "      <td>0.4404</td>\n",
       "      <td>buy v lease solar panel option better homeowner</td>\n",
       "    </tr>\n",
       "    <tr>\n",
       "      <th>39998</th>\n",
       "      <td>Residential Solar Water Heater Idea</td>\n",
       "      <td>1</td>\n",
       "      <td>11</td>\n",
       "      <td>7.0</td>\n",
       "      <td>0.0000</td>\n",
       "      <td>residential solar water heater idea</td>\n",
       "    </tr>\n",
       "    <tr>\n",
       "      <th>39999</th>\n",
       "      <td>Port Of Long Beach Goes Greener With Solar Car...</td>\n",
       "      <td>1</td>\n",
       "      <td>15</td>\n",
       "      <td>0.0</td>\n",
       "      <td>0.0000</td>\n",
       "      <td>port long beach go greener solar carport</td>\n",
       "    </tr>\n",
       "  </tbody>\n",
       "</table>\n",
       "<p>40000 rows × 6 columns</p>\n",
       "</div>"
      ],
      "text/plain": [
       "                                                    text  subreddit  score  \\\n",
       "0      &gt;the article is about \"new\" cars, not \"all\"...          0      1   \n",
       "1      What a non-sense article. Good luck trying to ...          0      2   \n",
       "2             Tesla semi will be a game changer for this          0      1   \n",
       "3      Well, you know, I oversimplified.  They are tr...          0      1   \n",
       "4                                  90 miles is 144.84 km          0      1   \n",
       "...                                                  ...        ...    ...   \n",
       "39995  Trump begins his witchhunt against Green Energ...          1    261   \n",
       "39996  New Report: Switch to a Clean Energy Economy “...          1      1   \n",
       "39997  Buy vs. Lease Solar Panels: Which Option Is Be...          1      1   \n",
       "39998                Residential Solar Water Heater Idea          1     11   \n",
       "39999  Port Of Long Beach Goes Greener With Solar Car...          1     15   \n",
       "\n",
       "       num_comments  sentiment  \\\n",
       "0               0.0     0.9248   \n",
       "1               0.0     0.7357   \n",
       "2               0.0     0.0000   \n",
       "3               0.0     0.8689   \n",
       "4               0.0     0.0000   \n",
       "...             ...        ...   \n",
       "39995          90.0     0.2732   \n",
       "39996           0.0     0.5859   \n",
       "39997           0.0     0.4404   \n",
       "39998           7.0     0.0000   \n",
       "39999           0.0     0.0000   \n",
       "\n",
       "                                            cleaned_text  \n",
       "0      article new car car yes entire article basical...  \n",
       "1      non sense article good luck trying move ton tr...  \n",
       "2                                tesla semi game changer  \n",
       "3      well know oversimplified trying regain market ...  \n",
       "4                                                mile km  \n",
       "...                                                  ...  \n",
       "39995  trump begin witchhunt green  seek name departm...  \n",
       "39996  new report switch clean  economy irrevocably u...  \n",
       "39997    buy v lease solar panel option better homeowner  \n",
       "39998                residential solar water heater idea  \n",
       "39999           port long beach go greener solar carport  \n",
       "\n",
       "[40000 rows x 6 columns]"
      ]
     },
     "execution_count": 16,
     "metadata": {},
     "output_type": "execute_result"
    }
   ],
   "source": [
    "df"
   ]
  },
  {
   "cell_type": "markdown",
   "metadata": {},
   "source": [
    "## Feature engineering"
   ]
  },
  {
   "cell_type": "markdown",
   "metadata": {},
   "source": [
    "### Features for number of word and char"
   ]
  },
  {
   "cell_type": "code",
   "execution_count": 17,
   "metadata": {},
   "outputs": [],
   "source": [
    "df['char_count'] = df.text.map(len)"
   ]
  },
  {
   "cell_type": "code",
   "execution_count": 18,
   "metadata": {},
   "outputs": [],
   "source": [
    "df['word_count'] = df.text.map(lambda x: len(x.split()))"
   ]
  },
  {
   "cell_type": "code",
   "execution_count": 19,
   "metadata": {},
   "outputs": [
    {
     "data": {
      "text/html": [
       "<div>\n",
       "<style scoped>\n",
       "    .dataframe tbody tr th:only-of-type {\n",
       "        vertical-align: middle;\n",
       "    }\n",
       "\n",
       "    .dataframe tbody tr th {\n",
       "        vertical-align: top;\n",
       "    }\n",
       "\n",
       "    .dataframe thead th {\n",
       "        text-align: right;\n",
       "    }\n",
       "</style>\n",
       "<table border=\"1\" class=\"dataframe\">\n",
       "  <thead>\n",
       "    <tr style=\"text-align: right;\">\n",
       "      <th></th>\n",
       "      <th>text</th>\n",
       "      <th>subreddit</th>\n",
       "      <th>score</th>\n",
       "      <th>num_comments</th>\n",
       "      <th>sentiment</th>\n",
       "      <th>cleaned_text</th>\n",
       "      <th>char_count</th>\n",
       "      <th>word_count</th>\n",
       "    </tr>\n",
       "  </thead>\n",
       "  <tbody>\n",
       "    <tr>\n",
       "      <th>0</th>\n",
       "      <td>&amp;gt;the article is about \"new\" cars, not \"all\"...</td>\n",
       "      <td>0</td>\n",
       "      <td>1</td>\n",
       "      <td>0.0</td>\n",
       "      <td>0.9248</td>\n",
       "      <td>article new car car yes entire article basical...</td>\n",
       "      <td>1142</td>\n",
       "      <td>186</td>\n",
       "    </tr>\n",
       "    <tr>\n",
       "      <th>1</th>\n",
       "      <td>What a non-sense article. Good luck trying to ...</td>\n",
       "      <td>0</td>\n",
       "      <td>2</td>\n",
       "      <td>0.0</td>\n",
       "      <td>0.7357</td>\n",
       "      <td>non sense article good luck trying move ton tr...</td>\n",
       "      <td>1627</td>\n",
       "      <td>256</td>\n",
       "    </tr>\n",
       "    <tr>\n",
       "      <th>2</th>\n",
       "      <td>Tesla semi will be a game changer for this</td>\n",
       "      <td>0</td>\n",
       "      <td>1</td>\n",
       "      <td>0.0</td>\n",
       "      <td>0.0000</td>\n",
       "      <td>tesla semi game changer</td>\n",
       "      <td>42</td>\n",
       "      <td>9</td>\n",
       "    </tr>\n",
       "    <tr>\n",
       "      <th>3</th>\n",
       "      <td>Well, you know, I oversimplified.  They are tr...</td>\n",
       "      <td>0</td>\n",
       "      <td>1</td>\n",
       "      <td>0.0</td>\n",
       "      <td>0.8689</td>\n",
       "      <td>well know oversimplified trying regain market ...</td>\n",
       "      <td>353</td>\n",
       "      <td>60</td>\n",
       "    </tr>\n",
       "    <tr>\n",
       "      <th>4</th>\n",
       "      <td>90 miles is 144.84 km</td>\n",
       "      <td>0</td>\n",
       "      <td>1</td>\n",
       "      <td>0.0</td>\n",
       "      <td>0.0000</td>\n",
       "      <td>mile km</td>\n",
       "      <td>21</td>\n",
       "      <td>5</td>\n",
       "    </tr>\n",
       "    <tr>\n",
       "      <th>...</th>\n",
       "      <td>...</td>\n",
       "      <td>...</td>\n",
       "      <td>...</td>\n",
       "      <td>...</td>\n",
       "      <td>...</td>\n",
       "      <td>...</td>\n",
       "      <td>...</td>\n",
       "      <td>...</td>\n",
       "    </tr>\n",
       "    <tr>\n",
       "      <th>39995</th>\n",
       "      <td>Trump begins his witchhunt against Green Energ...</td>\n",
       "      <td>1</td>\n",
       "      <td>261</td>\n",
       "      <td>90.0</td>\n",
       "      <td>0.2732</td>\n",
       "      <td>trump begin witchhunt green  seek name departm...</td>\n",
       "      <td>123</td>\n",
       "      <td>18</td>\n",
       "    </tr>\n",
       "    <tr>\n",
       "      <th>39996</th>\n",
       "      <td>New Report: Switch to a Clean Energy Economy “...</td>\n",
       "      <td>1</td>\n",
       "      <td>1</td>\n",
       "      <td>0.0</td>\n",
       "      <td>0.5859</td>\n",
       "      <td>new report switch clean  economy irrevocably u...</td>\n",
       "      <td>67</td>\n",
       "      <td>10</td>\n",
       "    </tr>\n",
       "    <tr>\n",
       "      <th>39997</th>\n",
       "      <td>Buy vs. Lease Solar Panels: Which Option Is Be...</td>\n",
       "      <td>1</td>\n",
       "      <td>1</td>\n",
       "      <td>0.0</td>\n",
       "      <td>0.4404</td>\n",
       "      <td>buy v lease solar panel option better homeowner</td>\n",
       "      <td>65</td>\n",
       "      <td>11</td>\n",
       "    </tr>\n",
       "    <tr>\n",
       "      <th>39998</th>\n",
       "      <td>Residential Solar Water Heater Idea</td>\n",
       "      <td>1</td>\n",
       "      <td>11</td>\n",
       "      <td>7.0</td>\n",
       "      <td>0.0000</td>\n",
       "      <td>residential solar water heater idea</td>\n",
       "      <td>35</td>\n",
       "      <td>5</td>\n",
       "    </tr>\n",
       "    <tr>\n",
       "      <th>39999</th>\n",
       "      <td>Port Of Long Beach Goes Greener With Solar Car...</td>\n",
       "      <td>1</td>\n",
       "      <td>15</td>\n",
       "      <td>0.0</td>\n",
       "      <td>0.0000</td>\n",
       "      <td>port long beach go greener solar carport</td>\n",
       "      <td>51</td>\n",
       "      <td>9</td>\n",
       "    </tr>\n",
       "  </tbody>\n",
       "</table>\n",
       "<p>40000 rows × 8 columns</p>\n",
       "</div>"
      ],
      "text/plain": [
       "                                                    text  subreddit  score  \\\n",
       "0      &gt;the article is about \"new\" cars, not \"all\"...          0      1   \n",
       "1      What a non-sense article. Good luck trying to ...          0      2   \n",
       "2             Tesla semi will be a game changer for this          0      1   \n",
       "3      Well, you know, I oversimplified.  They are tr...          0      1   \n",
       "4                                  90 miles is 144.84 km          0      1   \n",
       "...                                                  ...        ...    ...   \n",
       "39995  Trump begins his witchhunt against Green Energ...          1    261   \n",
       "39996  New Report: Switch to a Clean Energy Economy “...          1      1   \n",
       "39997  Buy vs. Lease Solar Panels: Which Option Is Be...          1      1   \n",
       "39998                Residential Solar Water Heater Idea          1     11   \n",
       "39999  Port Of Long Beach Goes Greener With Solar Car...          1     15   \n",
       "\n",
       "       num_comments  sentiment  \\\n",
       "0               0.0     0.9248   \n",
       "1               0.0     0.7357   \n",
       "2               0.0     0.0000   \n",
       "3               0.0     0.8689   \n",
       "4               0.0     0.0000   \n",
       "...             ...        ...   \n",
       "39995          90.0     0.2732   \n",
       "39996           0.0     0.5859   \n",
       "39997           0.0     0.4404   \n",
       "39998           7.0     0.0000   \n",
       "39999           0.0     0.0000   \n",
       "\n",
       "                                            cleaned_text  char_count  \\\n",
       "0      article new car car yes entire article basical...        1142   \n",
       "1      non sense article good luck trying move ton tr...        1627   \n",
       "2                                tesla semi game changer          42   \n",
       "3      well know oversimplified trying regain market ...         353   \n",
       "4                                                mile km          21   \n",
       "...                                                  ...         ...   \n",
       "39995  trump begin witchhunt green  seek name departm...         123   \n",
       "39996  new report switch clean  economy irrevocably u...          67   \n",
       "39997    buy v lease solar panel option better homeowner          65   \n",
       "39998                residential solar water heater idea          35   \n",
       "39999           port long beach go greener solar carport          51   \n",
       "\n",
       "       word_count  \n",
       "0             186  \n",
       "1             256  \n",
       "2               9  \n",
       "3              60  \n",
       "4               5  \n",
       "...           ...  \n",
       "39995          18  \n",
       "39996          10  \n",
       "39997          11  \n",
       "39998           5  \n",
       "39999           9  \n",
       "\n",
       "[40000 rows x 8 columns]"
      ]
     },
     "execution_count": 19,
     "metadata": {},
     "output_type": "execute_result"
    }
   ],
   "source": [
    "df"
   ]
  },
  {
   "cell_type": "markdown",
   "metadata": {},
   "source": [
    "## Data visuallization for numeric features"
   ]
  },
  {
   "cell_type": "code",
   "execution_count": 20,
   "metadata": {},
   "outputs": [
    {
     "data": {
      "image/png": "[encoded data removed]",
      "text/plain": [
       "<Figure size 360x360 with 1 Axes>"
      ]
     },
     "metadata": {
      "needs_background": "light"
     },
     "output_type": "display_data"
    }
   ],
   "source": [
    "plt.figure(figsize=(5,5))\n",
    "plt.hist([df[df['subreddit']==0]['char_count'], \n",
    "          df[df['subreddit']==1]['char_count']],\n",
    "         bins=5,color=['goldenrod', 'grey'], ec='k')\n",
    "plt.title('Character Count by subreddit', fontsize=15)\n",
    "plt.legend(['energy', 'renewable_energy']);\n",
    "plt.savefig('../plots/character_count.png', dpi=235)"
   ]
  },
  {
   "cell_type": "code",
   "execution_count": 21,
   "metadata": {},
   "outputs": [
    {
     "data": {
      "image/png": "[encoded data removed]",
      "text/plain": [
       "<Figure size 360x360 with 1 Axes>"
      ]
     },
     "metadata": {
      "needs_background": "light"
     },
     "output_type": "display_data"
    }
   ],
   "source": [
    "plt.figure(figsize=(5,5))\n",
    "plt.hist([df[df['subreddit']==0]['word_count'], df[df['subreddit']==1]['word_count']],\n",
    "         bins=5, color=['goldenrod', 'grey'], ec='b')\n",
    "plt.title('Word Count by subreddit', fontsize=15)\n",
    "plt.legend(['energy', 'renewable_energy']);\n",
    "plt.savefig('../plots/word_count.png', dpi=235)"
   ]
  },
  {
   "cell_type": "code",
   "execution_count": 22,
   "metadata": {},
   "outputs": [
    {
     "data": {
      "image/png": "[encoded data removed]",
      "text/plain": [
       "<Figure size 360x360 with 1 Axes>"
      ]
     },
     "metadata": {
      "needs_background": "light"
     },
     "output_type": "display_data"
    }
   ],
   "source": [
    "plt.figure(figsize=(5,5))\n",
    "plt.hist([df[df['subreddit']==0][\"sentiment\"], df[df['subreddit']==1][\"sentiment\"]],\n",
    "         bins=5, color=['goldenrod', 'grey'], ec='b')\n",
    "plt.title('sentiment analysis by subreddit', fontsize=15)\n",
    "plt.legend(['energy', 'renewable_energy']);\n",
    "plt.savefig('../plots/sentiment_analyzer.png', dpi=235)"
   ]
  },
  {
   "cell_type": "code",
   "execution_count": 23,
   "metadata": {
    "scrolled": true
   },
   "outputs": [
    {
     "data": {
      "image/png": "[encoded data removed]",
      "text/plain": [
       "<Figure size 360x360 with 1 Axes>"
      ]
     },
     "metadata": {
      "needs_background": "light"
     },
     "output_type": "display_data"
    }
   ],
   "source": [
    "plt.figure(figsize=(5,5))\n",
    "plt.hist([df[df['subreddit']==0][\"score\"], df[df['subreddit']==1][\"score\"]],\n",
    "         bins=5, color=['goldenrod', 'grey'], ec='b')\n",
    "plt.title('score by subreddit', fontsize=15)\n",
    "plt.legend(['energy', 'renewable_energy']);\n",
    "plt.savefig('../plots/score.png', dpi=235)"
   ]
  },
  {
   "cell_type": "code",
   "execution_count": 24,
   "metadata": {},
   "outputs": [
    {
     "data": {
      "image/png": "[encoded data removed]",
      "text/plain": [
       "<Figure size 360x360 with 1 Axes>"
      ]
     },
     "metadata": {
      "needs_background": "light"
     },
     "output_type": "display_data"
    }
   ],
   "source": [
    "plt.figure(figsize=(5,5))\n",
    "plt.hist([df[df['subreddit']==0][\"num_comments\"], df[df['subreddit']==1][\"num_comments\"]],\n",
    "         bins=5, color=['goldenrod', 'grey'], ec='b')\n",
    "plt.title('num_comments by subreddit', fontsize=15)\n",
    "plt.legend(['energy', 'renewable_energy']);\n",
    "plt.savefig('../plots/num_col.png', dpi=235)"
   ]
  },
  {
   "cell_type": "markdown",
   "metadata": {},
   "source": [
    "### The distribution of top unigrams after removing stop words"
   ]
  },
  {
   "cell_type": "code",
   "execution_count": 25,
   "metadata": {},
   "outputs": [
    {
     "name": "stdout",
     "output_type": "stream",
     "text": [
      "solar 9294\n",
      "power 6419\n",
      "wind 4814\n",
      "year 3874\n",
      "battery 3563\n",
      "gas 3498\n",
      "oil 3469\n",
      "hydrogen 3386\n",
      "cost 3378\n",
      "fuel 3336\n",
      "new 3306\n",
      "storage 3114\n",
      "coal 3093\n",
      "http 3084\n",
      "nuclear 3060\n",
      "like 3034\n",
      "plant 2882\n",
      "need 2781\n",
      "make 2587\n",
      "electricity 2577\n"
     ]
    },
    {
     "data": {
      "image/png": "[encoded data removed]",
      "text/plain": [
       "<Figure size 1080x576 with 1 Axes>"
      ]
     },
     "metadata": {
      "needs_background": "light"
     },
     "output_type": "display_data"
    }
   ],
   "source": [
    "\n",
    "def get_top_n_words(corpus, n=None):\n",
    "    vec = CountVectorizer(stop_words = 'english').fit(corpus)\n",
    "    bag_of_words = vec.transform(corpus)\n",
    "    sum_words = bag_of_words.sum(axis=0) \n",
    "    words_freq = [(word, sum_words[0, idx]) for word, idx in vec.vocabulary_.items()]\n",
    "    words_freq =sorted(words_freq, key = lambda x: x[1], reverse=True)\n",
    "    return words_freq[:n]\n",
    "common_words = get_top_n_words(df['cleaned_text'], 20)\n",
    "for word, freq in common_words:\n",
    "    print(word, freq)\n",
    "df2 = pd.DataFrame(common_words, columns = ['ReviewText' , 'count']).sort_values(by=['count'],ascending=False).head(10)\n",
    "#df2.groupby('ReviewText').sum()['count'].sort_values(ascending=False)\n",
    "plt.figure(figsize=(15,8))\n",
    "sns.barplot(x=df2['ReviewText'],y=df2['count'])\n",
    "plt.savefig('../plots/top_unigrams_1.png', dpi=235)"
   ]
  },
  {
   "cell_type": "markdown",
   "metadata": {},
   "source": [
    "### The distribution of top bigrams after removing stop words\n"
   ]
  },
  {
   "cell_type": "code",
   "execution_count": 26,
   "metadata": {},
   "outputs": [
    {
     "name": "stdout",
     "output_type": "stream",
     "text": [
      "http www 1531\n",
      "fossil fuel 1378\n",
      "natural gas 1104\n",
      "solar panel 950\n",
      "solar power 843\n",
      "wind solar 795\n",
      "power plant 788\n",
      "climate change 717\n",
      "fuel cell 709\n",
      "solar wind 652\n",
      "wind turbine 631\n",
      "nuclear power 619\n",
      "offshore wind 462\n",
      "wind farm 455\n",
      "wind power 415\n",
      "reddit com 415\n",
      "electric car 399\n",
      "oil gas 392\n",
      "coal plant 360\n",
      "make sense 320\n"
     ]
    },
    {
     "data": {
      "image/png": "[encoded data removed]",
      "text/plain": [
       "<Figure size 1080x576 with 1 Axes>"
      ]
     },
     "metadata": {
      "needs_background": "light"
     },
     "output_type": "display_data"
    }
   ],
   "source": [
    "def get_top_n_bigram(corpus, n=None):\n",
    "    vec = CountVectorizer(ngram_range=(2, 2), stop_words='english').fit(corpus)\n",
    "    bag_of_words = vec.transform(corpus)\n",
    "    sum_words = bag_of_words.sum(axis=0) \n",
    "    words_freq = [(word, sum_words[0, idx]) for word, idx in vec.vocabulary_.items()]\n",
    "    words_freq =sorted(words_freq, key = lambda x: x[1], reverse=True)\n",
    "    return words_freq[:n]\n",
    "common_words = get_top_n_bigram(df['cleaned_text'], 20)\n",
    "for word, freq in common_words:\n",
    "    print(word, freq)\n",
    "df4 = pd.DataFrame(common_words, columns = ['ReviewText' , 'count']).sort_values(by=['count'],ascending=False).head(10)\n",
    "#df4.groupby('ReviewText').sum()['count'].sort_values(ascending=False)\n",
    "plt.figure(figsize=(15,8))\n",
    "sns.barplot(x=df4['ReviewText'],y=df4['count'])\n",
    "plt.savefig('../plots/top_bigrams_1.png', dpi=235)"
   ]
  },
  {
   "cell_type": "markdown",
   "metadata": {},
   "source": [
    "### The distribution of Top trigrams after removing stop words"
   ]
  },
  {
   "cell_type": "code",
   "execution_count": 27,
   "metadata": {
    "scrolled": true
   },
   "outputs": [
    {
     "name": "stdout",
     "output_type": "stream",
     "text": [
      "http en wikipedia 250\n",
      "en wikipedia org 250\n",
      "wikipedia org wiki 249\n",
      "http np reddit 241\n",
      "np reddit com 241\n",
      "nuclear power plant 205\n",
      "hydrogen fuel cell 170\n",
      "reddit com message 163\n",
      "com message compose 163\n",
      "lithium ion battery 128\n",
      "http www youtube 113\n",
      "www youtube com 113\n",
      "youtube com watch 105\n",
      "http www reddit 100\n",
      "www reddit com 100\n",
      "fossil fuel industry 99\n",
      "green new deal 98\n",
      "offshore wind farm 95\n",
      "coal fired power 84\n",
      "solar plus storage 80\n"
     ]
    },
    {
     "data": {
      "image/png": "[encoded data removed]",
      "text/plain": [
       "<Figure size 1440x576 with 1 Axes>"
      ]
     },
     "metadata": {
      "needs_background": "light"
     },
     "output_type": "display_data"
    }
   ],
   "source": [
    "\n",
    "def get_top_n_trigram(corpus, n=None):\n",
    "    vec = CountVectorizer(ngram_range=(3, 3), stop_words='english').fit(corpus)\n",
    "    bag_of_words = vec.transform(corpus)\n",
    "    sum_words = bag_of_words.sum(axis=0) \n",
    "    words_freq = [(word, sum_words[0, idx]) for word, idx in vec.vocabulary_.items()]\n",
    "    words_freq =sorted(words_freq, key = lambda x: x[1], reverse=True)\n",
    "    return words_freq[:n]\n",
    "common_words = get_top_n_trigram(df['cleaned_text'], 20)\n",
    "for word, freq in common_words:\n",
    "    print(word, freq)\n",
    "df6 = pd.DataFrame(common_words, columns = ['ReviewText' , 'count']).sort_values(by=['count'],ascending=False).head(10)\n",
    "#df6.groupby('ReviewText').sum()['count'].sort_values(ascending=False)\n",
    "plt.figure(figsize=(20,8))\n",
    "sns.barplot(x=df6['ReviewText'],y=df6['count'])\n",
    "plt.savefig('../plots/top_trigrams_1.png', dpi=235)"
   ]
  },
  {
   "cell_type": "markdown",
   "metadata": {},
   "source": [
    "## Remove words that are none-sense"
   ]
  },
  {
   "cell_type": "code",
   "execution_count": 28,
   "metadata": {},
   "outputs": [],
   "source": [
    "dirty_word=['http', 'np' ,'reddit','en','wikipedia','com','org','wiki','www','youtube','watch','message']"
   ]
  },
  {
   "cell_type": "code",
   "execution_count": 29,
   "metadata": {},
   "outputs": [],
   "source": [
    "re_banned_words = re.compile(r\"\\b(\" + \"|\".join(dirty_word) + \")\\\\W\", re.I)"
   ]
  },
  {
   "cell_type": "code",
   "execution_count": 30,
   "metadata": {},
   "outputs": [],
   "source": [
    "def RemoveBannedWords(x):\n",
    "    global re_banned_words\n",
    "    return re_banned_words.sub(\"\", x)\n",
    "\n"
   ]
  },
  {
   "cell_type": "code",
   "execution_count": 31,
   "metadata": {},
   "outputs": [],
   "source": [
    "df['cleaned_text'] = df['cleaned_text'].apply(RemoveBannedWords)"
   ]
  },
  {
   "cell_type": "markdown",
   "metadata": {},
   "source": [
    "## Now again top words"
   ]
  },
  {
   "cell_type": "markdown",
   "metadata": {},
   "source": [
    "### Top words in renewable"
   ]
  },
  {
   "cell_type": "code",
   "execution_count": 32,
   "metadata": {
    "scrolled": true
   },
   "outputs": [
    {
     "name": "stdout",
     "output_type": "stream",
     "text": [
      "nuclear power plant 69\n",
      "lithium ion battery 64\n",
      "offshore wind farm 59\n",
      "pv magazine usa 47\n",
      "virtual power plant 46\n",
      "wind solar power 45\n",
      "solar plus storage 45\n",
      "america actually uninhabited 43\n",
      "utility scale solar 41\n",
      "solar power plant 41\n",
      "actually uninhabited america 41\n",
      "uninhabited america actually 41\n",
      "li ion battery 37\n",
      "best tl dr 36\n",
      "tl dr make 36\n",
      "dr make original 36\n",
      "extended summary autotldr 36\n",
      "summary autotldr comment 36\n",
      "faq autotldr comment 36\n",
      "autotldr comment fm 36\n"
     ]
    },
    {
     "data": {
      "image/png": "[encoded data removed]",
      "text/plain": [
       "<Figure size 1440x576 with 1 Axes>"
      ]
     },
     "metadata": {
      "needs_background": "light"
     },
     "output_type": "display_data"
    }
   ],
   "source": [
    "def get_top_n_trigram(corpus, n=None):\n",
    "    vec = CountVectorizer(ngram_range=(3, 3), stop_words='english').fit(corpus)\n",
    "    bag_of_words = vec.transform(corpus)\n",
    "    sum_words = bag_of_words.sum(axis=0) \n",
    "    words_freq = [(word, sum_words[0, idx]) for word, idx in vec.vocabulary_.items()]\n",
    "    words_freq =sorted(words_freq, key = lambda x: x[1], reverse=True)\n",
    "    return words_freq[:n]\n",
    "common_words = get_top_n_trigram(df['cleaned_text'][df[\"subreddit\"]==1], 20)\n",
    "for word, freq in common_words:\n",
    "    print(word, freq)\n",
    "df6 = pd.DataFrame(common_words, columns = ['ReviewText' , 'count']).sort_values(by=['count'],ascending=False).head(10)\n",
    "#df6.groupby('ReviewText').sum()['count'].sort_values(ascending=False)\n",
    "plt.figure(figsize=(20,8))\n",
    "sns.barplot(x=df6['ReviewText'],y=df6['count'])\n",
    "plt.savefig('../plots/top_trigrams_best.png', dpi=235)"
   ]
  },
  {
   "cell_type": "code",
   "execution_count": 33,
   "metadata": {},
   "outputs": [
    {
     "name": "stdout",
     "output_type": "stream",
     "text": [
      "hydrogen fuel cell 137\n",
      "nuclear power plant 136\n",
      "fossil fuel industry 67\n",
      "lithium ion battery 64\n",
      "fuel cell vehicle 63\n",
      "green new deal 62\n",
      "coal fired power 53\n",
      "fired power plant 46\n",
      "fossil fuel subsidy 43\n",
      "coal power plant 40\n",
      "offshore wind farm 36\n",
      "oil natural gas 35\n",
      "oil gas industry 35\n",
      "fossil fuel company 35\n",
      "solar storage home 35\n",
      "solar plus storage 35\n",
      "wind solar power 34\n",
      "fuel cell bus 33\n",
      "coal natural gas 31\n",
      "utility scale solar 30\n"
     ]
    },
    {
     "data": {
      "image/png": "[encoded data removed]",
      "text/plain": [
       "<Figure size 1440x576 with 1 Axes>"
      ]
     },
     "metadata": {
      "needs_background": "light"
     },
     "output_type": "display_data"
    }
   ],
   "source": [
    "def get_top_n_trigram(corpus, n=None):\n",
    "    vec = CountVectorizer(ngram_range=(3, 3), stop_words='english').fit(corpus)\n",
    "    bag_of_words = vec.transform(corpus)\n",
    "    sum_words = bag_of_words.sum(axis=0) \n",
    "    words_freq = [(word, sum_words[0, idx]) for word, idx in vec.vocabulary_.items()]\n",
    "    words_freq =sorted(words_freq, key = lambda x: x[1], reverse=True)\n",
    "    return words_freq[:n]\n",
    "common_words = get_top_n_trigram(df['cleaned_text'][df[\"subreddit\"]==0], 20)\n",
    "for word, freq in common_words:\n",
    "    print(word, freq)\n",
    "df6 = pd.DataFrame(common_words, columns = ['ReviewText' , 'count']).sort_values(by=['count'],ascending=False).head(10)\n",
    "#df6.groupby('ReviewText').sum()['count'].sort_values(ascending=False)\n",
    "plt.figure(figsize=(20,8))\n",
    "sns.barplot(x=df6['ReviewText'],y=df6['count'])\n",
    "plt.savefig('../plots/top_trigrams_best.png', dpi=235)"
   ]
  },
  {
   "cell_type": "code",
   "execution_count": 34,
   "metadata": {
    "scrolled": true
   },
   "outputs": [
    {
     "name": "stdout",
     "output_type": "stream",
     "text": [
      "fossil fuel 653\n",
      "solar panel 638\n",
      "solar power 561\n",
      "wind turbine 475\n",
      "wind solar 429\n",
      "solar wind 379\n",
      "climate change 373\n",
      "power plant 360\n",
      "natural gas 355\n",
      "wind farm 325\n",
      "offshore wind 283\n",
      "nuclear power 271\n",
      "wind power 268\n",
      "solar farm 204\n",
      "battery storage 176\n",
      "solar cell 165\n",
      "electric car 159\n",
      "make sense 150\n",
      "coal plant 141\n",
      "solar project 133\n"
     ]
    },
    {
     "data": {
      "image/png": "[encoded data removed]",
      "text/plain": [
       "<Figure size 1080x576 with 1 Axes>"
      ]
     },
     "metadata": {
      "needs_background": "light"
     },
     "output_type": "display_data"
    }
   ],
   "source": [
    "def get_top_n_bigram(corpus, n=None):\n",
    "    vec = CountVectorizer(ngram_range=(2, 2), stop_words='english').fit(corpus)\n",
    "    bag_of_words = vec.transform(corpus)\n",
    "    sum_words = bag_of_words.sum(axis=0) \n",
    "    words_freq = [(word, sum_words[0, idx]) for word, idx in vec.vocabulary_.items()]\n",
    "    words_freq =sorted(words_freq, key = lambda x: x[1], reverse=True)\n",
    "    return words_freq[:n]\n",
    "common_words = get_top_n_bigram(df['cleaned_text'][df[\"subreddit\"]==1], 20)\n",
    "for word, freq in common_words:\n",
    "    print(word, freq)\n",
    "df4 = pd.DataFrame(common_words, columns = ['ReviewText' , 'count']).sort_values(by=['count'],ascending=False).head(10)\n",
    "#df4.groupby('ReviewText').sum()['count'].sort_values(ascending=False)\n",
    "plt.figure(figsize=(15,8))\n",
    "sns.barplot(x=df4['ReviewText'],y=df4['count'])\n",
    "plt.title(\"Top bigrams in Renewable Energy subreddit\",fontsize=25)\n",
    "plt.savefig('../plots/top_bigrams_renew.png', dpi=235)"
   ]
  },
  {
   "cell_type": "code",
   "execution_count": 35,
   "metadata": {},
   "outputs": [
    {
     "name": "stdout",
     "output_type": "stream",
     "text": [
      "natural gas 749\n",
      "fossil fuel 725\n",
      "fuel cell 602\n",
      "power plant 428\n",
      "wind solar 366\n",
      "nuclear power 348\n",
      "climate change 344\n",
      "solar panel 312\n",
      "oil gas 301\n",
      "solar power 282\n",
      "solar wind 273\n",
      "oil price 250\n",
      "electric car 240\n",
      "green hydrogen 225\n",
      "coal plant 219\n",
      "electric vehicle 198\n",
      "hydrogen fuel 198\n",
      "saudi arabia 182\n",
      "offshore wind 179\n",
      "make sense 170\n"
     ]
    },
    {
     "data": {
      "image/png": "[encoded data removed]",
      "text/plain": [
       "<Figure size 1080x576 with 1 Axes>"
      ]
     },
     "metadata": {
      "needs_background": "light"
     },
     "output_type": "display_data"
    }
   ],
   "source": [
    "def get_top_n_bigram(corpus, n=None):\n",
    "    vec = CountVectorizer(ngram_range=(2, 2), stop_words='english').fit(corpus)\n",
    "    bag_of_words = vec.transform(corpus)\n",
    "    sum_words = bag_of_words.sum(axis=0) \n",
    "    words_freq = [(word, sum_words[0, idx]) for word, idx in vec.vocabulary_.items()]\n",
    "    words_freq =sorted(words_freq, key = lambda x: x[1], reverse=True)\n",
    "    return words_freq[:n]\n",
    "common_words = get_top_n_bigram(df['cleaned_text'][df[\"subreddit\"]==0], 20)\n",
    "for word, freq in common_words:\n",
    "    print(word, freq)\n",
    "df4 = pd.DataFrame(common_words, columns = ['ReviewText' , 'count']).sort_values(by=['count'],ascending=False).head(10)\n",
    "#df4.groupby('ReviewText').sum()['count'].sort_values(ascending=False)\n",
    "plt.figure(figsize=(15,8))\n",
    "sns.barplot(x=df4['ReviewText'],y=df4['count'])\n",
    "plt.title(\"Top bigrams in Energy subreddit\",fontsize=25)\n",
    "plt.savefig('../plots/top_bigrams_energy.png', dpi=235)"
   ]
  },
  {
   "cell_type": "markdown",
   "metadata": {},
   "source": [
    "## Top words in Renewable subreddit"
   ]
  },
  {
   "cell_type": "code",
   "execution_count": 36,
   "metadata": {
    "scrolled": true
   },
   "outputs": [
    {
     "name": "stdout",
     "output_type": "stream",
     "text": [
      "solar 6004\n",
      "power 3553\n",
      "wind 3145\n",
      "year 1871\n",
      "battery 1747\n",
      "new 1661\n",
      "storage 1637\n",
      "cost 1616\n",
      "like 1492\n",
      "need 1335\n",
      "nuclear 1326\n",
      "plant 1301\n",
      "fuel 1295\n",
      "make 1287\n",
      "electricity 1261\n",
      "coal 1202\n",
      "gas 1169\n",
      "grid 1108\n",
      "company 1083\n",
      "project 1078\n"
     ]
    },
    {
     "data": {
      "image/png": "[encoded data removed]",
      "text/plain": [
       "<Figure size 1080x576 with 1 Axes>"
      ]
     },
     "metadata": {
      "needs_background": "light"
     },
     "output_type": "display_data"
    }
   ],
   "source": [
    "\n",
    "def get_top_n_words(corpus, n=None):\n",
    "    vec = CountVectorizer(stop_words = 'english').fit(corpus)\n",
    "    bag_of_words = vec.transform(corpus)\n",
    "    sum_words = bag_of_words.sum(axis=0) \n",
    "    words_freq = [(word, sum_words[0, idx]) for word, idx in vec.vocabulary_.items()]\n",
    "    words_freq =sorted(words_freq, key = lambda x: x[1], reverse=True)\n",
    "    return words_freq[:n]\n",
    "common_words_renew = get_top_n_words(df['cleaned_text'][df[\"subreddit\"]==1], 20)\n",
    "for word, freq in common_words_renew :\n",
    "    print(word, freq)\n",
    "df2 = pd.DataFrame(common_words_renew , columns = ['ReviewText' , 'count']).sort_values(by=['count'],ascending=False).head(10)\n",
    "#df2.groupby('ReviewText').sum()['count'].sort_values(ascending=False)\n",
    "plt.figure(figsize=(15,8))\n",
    "sns.barplot(x=df2['ReviewText'],y=df2['count'])\n",
    "plt.title(\"Top Unigrams in Renewable Energy subreddit\",fontsize=25)\n",
    "plt.savefig('../plots/top_unigrams_renewable.png', dpi=235)"
   ]
  },
  {
   "cell_type": "markdown",
   "metadata": {},
   "source": [
    "## Top words in energy subreddit"
   ]
  },
  {
   "cell_type": "code",
   "execution_count": 37,
   "metadata": {
    "scrolled": true
   },
   "outputs": [
    {
     "name": "stdout",
     "output_type": "stream",
     "text": [
      "solar 3290\n",
      "oil 2896\n",
      "power 2866\n",
      "hydrogen 2777\n",
      "gas 2329\n",
      "fuel 2041\n",
      "year 2003\n",
      "coal 1891\n",
      "battery 1816\n",
      "cost 1762\n",
      "nuclear 1734\n",
      "wind 1669\n",
      "new 1645\n",
      "price 1583\n",
      "plant 1581\n",
      "like 1542\n",
      "storage 1477\n",
      "need 1446\n",
      "market 1338\n",
      "electricity 1316\n"
     ]
    },
    {
     "data": {
      "image/png": "[encoded data removed]",
      "text/plain": [
       "<Figure size 1080x576 with 1 Axes>"
      ]
     },
     "metadata": {
      "needs_background": "light"
     },
     "output_type": "display_data"
    }
   ],
   "source": [
    "\n",
    "def get_top_n_words(corpus, n=None):\n",
    "    vec = CountVectorizer(stop_words = 'english').fit(corpus)\n",
    "    bag_of_words = vec.transform(corpus)\n",
    "    sum_words = bag_of_words.sum(axis=0) \n",
    "    words_freq = [(word, sum_words[0, idx]) for word, idx in vec.vocabulary_.items()]\n",
    "    words_freq =sorted(words_freq, key = lambda x: x[1], reverse=True)\n",
    "    return words_freq[:n]\n",
    "common_words_energy = get_top_n_words(df['cleaned_text'][df[\"subreddit\"]==0], 20)\n",
    "for word, freq in common_words_energy:\n",
    "    print(word, freq)\n",
    "df2 = pd.DataFrame(common_words_energy, columns = ['ReviewText' , 'count']).sort_values(by=['count'],ascending=False).head(10)\n",
    "#df2.groupby('ReviewText').sum()['count'].sort_values(ascending=False)\n",
    "plt.figure(figsize=(15,8))\n",
    "sns.barplot(x=df2['ReviewText'],y=df2['count'])\n",
    "plt.title(\"Top Unigrams in Energy subreddit\",fontsize=25)\n",
    "plt.savefig('../plots/top_unigrams_energy.png', dpi=235)"
   ]
  },
  {
   "cell_type": "markdown",
   "metadata": {},
   "source": [
    "## simple class feature"
   ]
  },
  {
   "cell_type": "code",
   "execution_count": 38,
   "metadata": {},
   "outputs": [],
   "source": [
    "# Let's come up with a list of positive and negative words we might observe.\n",
    "\n",
    "energy_words = [\"oil\",\"gas\",\"hydrogen\",\"plant\",\"fuel\",\"nuclear\"]\n",
    "renewable_energy_words = [\"green\",\"wind\",\"geothermal\",\"tidal\",\"grid\",\"storage\",\"solar\",\"biomass\"]"
   ]
  },
  {
   "cell_type": "code",
   "execution_count": 39,
   "metadata": {},
   "outputs": [],
   "source": [
    "def simple_class(text):\n",
    "     # Instantiate tokenizer.\n",
    "    tokenizer = RegexpTokenizer(r'\\w+')\n",
    "    \n",
    "    # Tokenize text.\n",
    "    tokens = tokenizer.tokenize(text.lower())\n",
    "    # Count \"energy\" words.\n",
    "    energy_count = sum([1 for i in tokens if i in energy_words])\n",
    "    # Count \"renewable energy\" words\n",
    "    renewable_energy_count = sum([1 for i in tokens if i in renewable_energy_words])\n",
    "    if renewable_energy_count>energy_count:\n",
    "        return \"1\"\n",
    "    else:\n",
    "        return \"0\""
   ]
  },
  {
   "cell_type": "code",
   "execution_count": 40,
   "metadata": {},
   "outputs": [],
   "source": [
    "df['simpe_class']=df[\"cleaned_text\"].apply(simple_class)"
   ]
  },
  {
   "cell_type": "code",
   "execution_count": 41,
   "metadata": {},
   "outputs": [
    {
     "data": {
      "text/plain": [
       "0    29803\n",
       "1    10197\n",
       "Name: simpe_class, dtype: int64"
      ]
     },
     "execution_count": 41,
     "metadata": {},
     "output_type": "execute_result"
    }
   ],
   "source": [
    "df['simpe_class'].value_counts()"
   ]
  },
  {
   "cell_type": "code",
   "execution_count": 42,
   "metadata": {},
   "outputs": [],
   "source": [
    "df[\"simpe_class\"] = pd.to_numeric(df[\"simpe_class\"])"
   ]
  },
  {
   "cell_type": "code",
   "execution_count": 43,
   "metadata": {},
   "outputs": [
    {
     "data": {
      "text/plain": [
       "0.17352385122589312"
      ]
     },
     "execution_count": 43,
     "metadata": {},
     "output_type": "execute_result"
    }
   ],
   "source": [
    "df['subreddit'].corr(df['simpe_class'])"
   ]
  },
  {
   "cell_type": "code",
   "execution_count": 44,
   "metadata": {},
   "outputs": [
    {
     "data": {
      "image/png": "[encoded data removed]",
      "text/plain": [
       "<Figure size 360x360 with 1 Axes>"
      ]
     },
     "metadata": {
      "needs_background": "light"
     },
     "output_type": "display_data"
    }
   ],
   "source": [
    "plt.figure(figsize=(5,5))\n",
    "plt.hist([df[df['subreddit']==0]['simpe_class'], \n",
    "          df[df['subreddit']==1]['simpe_class']],\n",
    "         bins=5, color=['goldenrod', 'grey'], ec='k')\n",
    "plt.title('Simple class histogram', fontsize=15)\n",
    "plt.legend(['energy', 'renewable_energy']);\n",
    "plt.savefig('../plots/simple_class.png', dpi=235)"
   ]
  },
  {
   "cell_type": "markdown",
   "metadata": {},
   "source": [
    "## Select the best features"
   ]
  },
  {
   "cell_type": "code",
   "execution_count": 45,
   "metadata": {},
   "outputs": [],
   "source": [
    "df.drop(columns=['score','text','num_comments','char_count','word_count'],inplace=True)"
   ]
  },
  {
   "cell_type": "code",
   "execution_count": 46,
   "metadata": {
    "scrolled": true
   },
   "outputs": [
    {
     "data": {
      "text/plain": [
       "0"
      ]
     },
     "execution_count": 46,
     "metadata": {},
     "output_type": "execute_result"
    }
   ],
   "source": [
    "df.isnull().sum().sum()"
   ]
  },
  {
   "cell_type": "markdown",
   "metadata": {},
   "source": [
    "## Save the final cleaned dataset "
   ]
  },
  {
   "cell_type": "code",
   "execution_count": 47,
   "metadata": {},
   "outputs": [
    {
     "data": {
      "text/html": [
       "<div>\n",
       "<style scoped>\n",
       "    .dataframe tbody tr th:only-of-type {\n",
       "        vertical-align: middle;\n",
       "    }\n",
       "\n",
       "    .dataframe tbody tr th {\n",
       "        vertical-align: top;\n",
       "    }\n",
       "\n",
       "    .dataframe thead th {\n",
       "        text-align: right;\n",
       "    }\n",
       "</style>\n",
       "<table border=\"1\" class=\"dataframe\">\n",
       "  <thead>\n",
       "    <tr style=\"text-align: right;\">\n",
       "      <th></th>\n",
       "      <th>subreddit</th>\n",
       "      <th>sentiment</th>\n",
       "      <th>cleaned_text</th>\n",
       "      <th>simpe_class</th>\n",
       "    </tr>\n",
       "  </thead>\n",
       "  <tbody>\n",
       "    <tr>\n",
       "      <th>69</th>\n",
       "      <td>0</td>\n",
       "      <td>0.0</td>\n",
       "      <td></td>\n",
       "      <td>0</td>\n",
       "    </tr>\n",
       "    <tr>\n",
       "      <th>377</th>\n",
       "      <td>0</td>\n",
       "      <td>0.0</td>\n",
       "      <td></td>\n",
       "      <td>0</td>\n",
       "    </tr>\n",
       "    <tr>\n",
       "      <th>389</th>\n",
       "      <td>0</td>\n",
       "      <td>0.0</td>\n",
       "      <td></td>\n",
       "      <td>0</td>\n",
       "    </tr>\n",
       "    <tr>\n",
       "      <th>636</th>\n",
       "      <td>0</td>\n",
       "      <td>0.0</td>\n",
       "      <td></td>\n",
       "      <td>0</td>\n",
       "    </tr>\n",
       "    <tr>\n",
       "      <th>870</th>\n",
       "      <td>0</td>\n",
       "      <td>0.0</td>\n",
       "      <td></td>\n",
       "      <td>0</td>\n",
       "    </tr>\n",
       "    <tr>\n",
       "      <th>...</th>\n",
       "      <td>...</td>\n",
       "      <td>...</td>\n",
       "      <td>...</td>\n",
       "      <td>...</td>\n",
       "    </tr>\n",
       "    <tr>\n",
       "      <th>33240</th>\n",
       "      <td>1</td>\n",
       "      <td>0.0</td>\n",
       "      <td></td>\n",
       "      <td>0</td>\n",
       "    </tr>\n",
       "    <tr>\n",
       "      <th>35094</th>\n",
       "      <td>1</td>\n",
       "      <td>0.0</td>\n",
       "      <td></td>\n",
       "      <td>0</td>\n",
       "    </tr>\n",
       "    <tr>\n",
       "      <th>38974</th>\n",
       "      <td>1</td>\n",
       "      <td>0.0</td>\n",
       "      <td></td>\n",
       "      <td>0</td>\n",
       "    </tr>\n",
       "    <tr>\n",
       "      <th>38984</th>\n",
       "      <td>1</td>\n",
       "      <td>0.0</td>\n",
       "      <td></td>\n",
       "      <td>0</td>\n",
       "    </tr>\n",
       "    <tr>\n",
       "      <th>39458</th>\n",
       "      <td>1</td>\n",
       "      <td>0.0</td>\n",
       "      <td></td>\n",
       "      <td>0</td>\n",
       "    </tr>\n",
       "  </tbody>\n",
       "</table>\n",
       "<p>104 rows × 4 columns</p>\n",
       "</div>"
      ],
      "text/plain": [
       "       subreddit  sentiment cleaned_text  simpe_class\n",
       "69             0        0.0                         0\n",
       "377            0        0.0                         0\n",
       "389            0        0.0                         0\n",
       "636            0        0.0                         0\n",
       "870            0        0.0                         0\n",
       "...          ...        ...          ...          ...\n",
       "33240          1        0.0                         0\n",
       "35094          1        0.0                         0\n",
       "38974          1        0.0                         0\n",
       "38984          1        0.0                         0\n",
       "39458          1        0.0                         0\n",
       "\n",
       "[104 rows x 4 columns]"
      ]
     },
     "execution_count": 47,
     "metadata": {},
     "output_type": "execute_result"
    }
   ],
   "source": [
    "df[df[\"cleaned_text\"]==\"\"]"
   ]
  },
  {
   "cell_type": "code",
   "execution_count": 48,
   "metadata": {},
   "outputs": [],
   "source": [
    "df=df[df[\"cleaned_text\"]!=\"\"]"
   ]
  },
  {
   "cell_type": "code",
   "execution_count": 49,
   "metadata": {},
   "outputs": [],
   "source": [
    "## SAve the data with best features\n",
    "#code\n",
    "df.to_csv('../datasets/df_final.csv', index=False)"
   ]
  },
  {
   "cell_type": "code",
   "execution_count": null,
   "metadata": {},
   "outputs": [],
   "source": []
  },
  {
   "cell_type": "code",
   "execution_count": null,
   "metadata": {},
   "outputs": [],
   "source": []
  }
 ],
 "metadata": {
  "kernelspec": {
   "display_name": "Python 3",
   "language": "python",
   "name": "python3"
  },
  "language_info": {
   "codemirror_mode": {
    "name": "ipython",
    "version": 3
   },
   "file_extension": ".py",
   "mimetype": "text/x-python",
   "name": "python",
   "nbconvert_exporter": "python",
   "pygments_lexer": "ipython3",
   "version": "3.7.6"
  }
 },
 "nbformat": 4,
 "nbformat_minor": 4
}
