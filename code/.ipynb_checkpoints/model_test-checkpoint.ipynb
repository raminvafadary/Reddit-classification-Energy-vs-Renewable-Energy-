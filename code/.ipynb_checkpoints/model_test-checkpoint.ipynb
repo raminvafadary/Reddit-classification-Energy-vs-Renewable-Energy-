{
 "cells": [
  {
   "cell_type": "code",
   "execution_count": 4,
   "metadata": {},
   "outputs": [],
   "source": [
    "import pandas as pd\n",
    "import requests\n",
    "import numpy as np\n",
    "import time"
   ]
  },
  {
   "cell_type": "code",
   "execution_count": 5,
   "metadata": {},
   "outputs": [],
   "source": [
    "#importing libraries\n",
    "import pandas as pd\n",
    "import numpy as np\n",
    "import nltk\n",
    "from nltk.stem import WordNetLemmatizer\n",
    "from nltk.tokenize import RegexpTokenizer\n",
    "import regex as re\n",
    "from nltk.stem import WordNetLemmatizer\n",
    "from nltk.stem.porter import PorterStemmer\n",
    "from bs4 import BeautifulSoup \n",
    "from nltk.corpus import stopwords\n",
    "from nltk.sentiment.vader import SentimentIntensityAnalyzer\n",
    "import matplotlib.pyplot as plt\n",
    "import seaborn as sns\n",
    "from sklearn.feature_extraction.text import CountVectorizer, TfidfVectorizer\n",
    "#nltk.download('stopwords')\n",
    "import warnings\n",
    "warnings.filterwarnings('ignore')\n",
    "import pickle"
   ]
  },
  {
   "cell_type": "markdown",
   "metadata": {},
   "source": [
    "### Renewable test"
   ]
  },
  {
   "cell_type": "code",
   "execution_count": 6,
   "metadata": {},
   "outputs": [
    {
     "name": "stdout",
     "output_type": "stream",
     "text": [
      "1587616481\n"
     ]
    }
   ],
   "source": [
    "base_url = 'https://api.pushshift.io/reddit/comment/search'\n",
    "before_timestamp = round(time.time())\n",
    "all_dfs1 = pd.DataFrame()\n",
    "for _ in range(1):\n",
    "    print(before_timestamp)\n",
    "    params = {\n",
    "    \"subreddit\" : 'RenewableEnergy',\n",
    "    \"size\" : 500,\n",
    "    'after': None,\n",
    "    'before': before_timestamp\n",
    "        }\n",
    "    res = requests.get(base_url,params)\n",
    "    if res.status_code == 200:\n",
    "        data = res.json()['data']\n",
    "        oldest_submission_timestamp = data[-1]['created_utc']\n",
    "        before_timestamp = oldest_submission_timestamp\n",
    "        df = pd.DataFrame(data)[[\"body\",\"subreddit\",\"score\"]]\n",
    "        all_dfs1=all_dfs1.append(pd.DataFrame(df), ignore_index = True)\n",
    "        \n",
    "    else:\n",
    "        print(f'ERROR CODE FOR RES: {res.status_code}')\n",
    "        break"
   ]
  },
  {
   "cell_type": "code",
   "execution_count": 7,
   "metadata": {},
   "outputs": [
    {
     "name": "stdout",
     "output_type": "stream",
     "text": [
      "1587616487\n"
     ]
    }
   ],
   "source": [
    "base_url = 'https://api.pushshift.io/reddit/submission/search'\n",
    "before_timestamp = round(time.time())\n",
    "all_dfs2 = pd.DataFrame()\n",
    "for _ in range(1):\n",
    "    print(before_timestamp)\n",
    "    params = {\n",
    "    \"subreddit\" : 'RenewableEnergy',\n",
    "    \"size\" : 500,\n",
    "    'after': None,\n",
    "    'before': before_timestamp\n",
    "        }\n",
    "    res = requests.get(base_url,params)\n",
    "    if res.status_code == 200:\n",
    "        data = res.json()['data']\n",
    "        oldest_submission_timestamp = data[-1]['created_utc']\n",
    "        before_timestamp = oldest_submission_timestamp\n",
    "        df = pd.DataFrame(data)[[\"title\",\"subreddit\",\"num_comments\",\"score\"]]\n",
    "        all_dfs2=all_dfs2.append(pd.DataFrame(df), ignore_index = True)\n",
    "    else:\n",
    "        print(f'ERROR CODE FOR RES: {res.status_code}')\n",
    "        break"
   ]
  },
  {
   "cell_type": "code",
   "execution_count": 8,
   "metadata": {},
   "outputs": [],
   "source": [
    "all_dfs1.rename(columns={\"body\":\"text\"},inplace=True)"
   ]
  },
  {
   "cell_type": "code",
   "execution_count": 9,
   "metadata": {},
   "outputs": [],
   "source": [
    "all_dfs2.rename(columns={\"title\":\"text\"},inplace=True)"
   ]
  },
  {
   "cell_type": "code",
   "execution_count": 10,
   "metadata": {},
   "outputs": [],
   "source": [
    "df_renewable=all_dfs1.append(all_dfs2,ignore_index=True)"
   ]
  },
  {
   "cell_type": "markdown",
   "metadata": {},
   "source": [
    "### Energy test"
   ]
  },
  {
   "cell_type": "code",
   "execution_count": 11,
   "metadata": {},
   "outputs": [
    {
     "name": "stdout",
     "output_type": "stream",
     "text": [
      "1587616497\n"
     ]
    }
   ],
   "source": [
    "base_url = 'https://api.pushshift.io/reddit/comment/search'\n",
    "before_timestamp = round(time.time())\n",
    "all_dfs1 = pd.DataFrame()\n",
    "for _ in range(1):\n",
    "    print(before_timestamp)\n",
    "    params = {\n",
    "    \"subreddit\" : 'energy',\n",
    "    \"size\" : 500,\n",
    "    'after': None,\n",
    "    'before': before_timestamp\n",
    "        }\n",
    "    res = requests.get(base_url,params)\n",
    "    if res.status_code == 200:\n",
    "        data = res.json()['data']\n",
    "        oldest_submission_timestamp = data[-1]['created_utc']\n",
    "        before_timestamp = oldest_submission_timestamp\n",
    "        df = pd.DataFrame(data)[[\"body\",\"subreddit\",\"score\"]]\n",
    "        all_dfs1=all_dfs1.append(pd.DataFrame(df), ignore_index = True)\n",
    "        \n",
    "    else:\n",
    "        print(f'ERROR CODE FOR RES: {res.status_code}')\n",
    "        break"
   ]
  },
  {
   "cell_type": "code",
   "execution_count": 12,
   "metadata": {},
   "outputs": [
    {
     "name": "stdout",
     "output_type": "stream",
     "text": [
      "1587616504\n"
     ]
    }
   ],
   "source": [
    "base_url = 'https://api.pushshift.io/reddit/submission/search'\n",
    "before_timestamp = round(time.time())\n",
    "all_dfs2 = pd.DataFrame()\n",
    "for _ in range(1):\n",
    "    print(before_timestamp)\n",
    "    params = {\n",
    "    \"subreddit\" : 'energy',\n",
    "    \"size\" : 500,\n",
    "    'after': None,\n",
    "    'before': before_timestamp\n",
    "        }\n",
    "    res = requests.get(base_url,params)\n",
    "    if res.status_code == 200:\n",
    "        data = res.json()['data']\n",
    "        oldest_submission_timestamp = data[-1]['created_utc']\n",
    "        before_timestamp = oldest_submission_timestamp\n",
    "        df = pd.DataFrame(data)[[\"title\",\"subreddit\",\"num_comments\",\"score\"]]\n",
    "        all_dfs2=all_dfs2.append(pd.DataFrame(df), ignore_index = True)\n",
    "    else:\n",
    "        print(f'ERROR CODE FOR RES: {res.status_code}')\n",
    "        break"
   ]
  },
  {
   "cell_type": "code",
   "execution_count": 13,
   "metadata": {},
   "outputs": [],
   "source": [
    "all_dfs1.rename(columns={\"body\":\"text\"},inplace=True)"
   ]
  },
  {
   "cell_type": "code",
   "execution_count": 14,
   "metadata": {},
   "outputs": [],
   "source": [
    "all_dfs2.rename(columns={\"title\":\"text\"},inplace=True)"
   ]
  },
  {
   "cell_type": "code",
   "execution_count": 15,
   "metadata": {},
   "outputs": [],
   "source": [
    "df_energy=all_dfs1.append(all_dfs2,ignore_index=True)"
   ]
  },
  {
   "cell_type": "code",
   "execution_count": 16,
   "metadata": {},
   "outputs": [],
   "source": [
    "df=df_energy.append(df_renewable,ignore_index=True)"
   ]
  },
  {
   "cell_type": "code",
   "execution_count": 17,
   "metadata": {},
   "outputs": [],
   "source": [
    "df=df.fillna(0)"
   ]
  },
  {
   "cell_type": "code",
   "execution_count": 18,
   "metadata": {},
   "outputs": [
    {
     "data": {
      "text/html": [
       "<div>\n",
       "<style scoped>\n",
       "    .dataframe tbody tr th:only-of-type {\n",
       "        vertical-align: middle;\n",
       "    }\n",
       "\n",
       "    .dataframe tbody tr th {\n",
       "        vertical-align: top;\n",
       "    }\n",
       "\n",
       "    .dataframe thead th {\n",
       "        text-align: right;\n",
       "    }\n",
       "</style>\n",
       "<table border=\"1\" class=\"dataframe\">\n",
       "  <thead>\n",
       "    <tr style=\"text-align: right;\">\n",
       "      <th></th>\n",
       "      <th>text</th>\n",
       "      <th>subreddit</th>\n",
       "      <th>score</th>\n",
       "      <th>num_comments</th>\n",
       "    </tr>\n",
       "  </thead>\n",
       "  <tbody>\n",
       "    <tr>\n",
       "      <th>0</th>\n",
       "      <td>Modern problems require modern solutions</td>\n",
       "      <td>energy</td>\n",
       "      <td>2</td>\n",
       "      <td>0.0</td>\n",
       "    </tr>\n",
       "    <tr>\n",
       "      <th>1</th>\n",
       "      <td>See: [https://www.washingtonpost.com/opinions/...</td>\n",
       "      <td>energy</td>\n",
       "      <td>2</td>\n",
       "      <td>0.0</td>\n",
       "    </tr>\n",
       "    <tr>\n",
       "      <th>2</th>\n",
       "      <td>Can I get paid to fill my apartment swimming p...</td>\n",
       "      <td>energy</td>\n",
       "      <td>2</td>\n",
       "      <td>0.0</td>\n",
       "    </tr>\n",
       "    <tr>\n",
       "      <th>3</th>\n",
       "      <td>You forgot that hydrogen is also the best futu...</td>\n",
       "      <td>energy</td>\n",
       "      <td>3</td>\n",
       "      <td>0.0</td>\n",
       "    </tr>\n",
       "    <tr>\n",
       "      <th>4</th>\n",
       "      <td>Cool so as long as you have the field wait til...</td>\n",
       "      <td>energy</td>\n",
       "      <td>2</td>\n",
       "      <td>0.0</td>\n",
       "    </tr>\n",
       "    <tr>\n",
       "      <th>...</th>\n",
       "      <td>...</td>\n",
       "      <td>...</td>\n",
       "      <td>...</td>\n",
       "      <td>...</td>\n",
       "    </tr>\n",
       "    <tr>\n",
       "      <th>1995</th>\n",
       "      <td>Wind energy podcast episode</td>\n",
       "      <td>RenewableEnergy</td>\n",
       "      <td>1</td>\n",
       "      <td>0.0</td>\n",
       "    </tr>\n",
       "    <tr>\n",
       "      <th>1996</th>\n",
       "      <td>Fossil Fuels Aren’t Even a Very Good Investmen...</td>\n",
       "      <td>RenewableEnergy</td>\n",
       "      <td>1</td>\n",
       "      <td>6.0</td>\n",
       "    </tr>\n",
       "    <tr>\n",
       "      <th>1997</th>\n",
       "      <td>Circular economy can improve the profitability...</td>\n",
       "      <td>RenewableEnergy</td>\n",
       "      <td>1</td>\n",
       "      <td>0.0</td>\n",
       "    </tr>\n",
       "    <tr>\n",
       "      <th>1998</th>\n",
       "      <td>Follow up for Zeta Energy article on Forbes</td>\n",
       "      <td>RenewableEnergy</td>\n",
       "      <td>1</td>\n",
       "      <td>0.0</td>\n",
       "    </tr>\n",
       "    <tr>\n",
       "      <th>1999</th>\n",
       "      <td>“ PolicyEd” trying to pretend they care about ...</td>\n",
       "      <td>RenewableEnergy</td>\n",
       "      <td>1</td>\n",
       "      <td>0.0</td>\n",
       "    </tr>\n",
       "  </tbody>\n",
       "</table>\n",
       "<p>2000 rows × 4 columns</p>\n",
       "</div>"
      ],
      "text/plain": [
       "                                                   text        subreddit  \\\n",
       "0              Modern problems require modern solutions           energy   \n",
       "1     See: [https://www.washingtonpost.com/opinions/...           energy   \n",
       "2     Can I get paid to fill my apartment swimming p...           energy   \n",
       "3     You forgot that hydrogen is also the best futu...           energy   \n",
       "4     Cool so as long as you have the field wait til...           energy   \n",
       "...                                                 ...              ...   \n",
       "1995                        Wind energy podcast episode  RenewableEnergy   \n",
       "1996  Fossil Fuels Aren’t Even a Very Good Investmen...  RenewableEnergy   \n",
       "1997  Circular economy can improve the profitability...  RenewableEnergy   \n",
       "1998        Follow up for Zeta Energy article on Forbes  RenewableEnergy   \n",
       "1999  “ PolicyEd” trying to pretend they care about ...  RenewableEnergy   \n",
       "\n",
       "      score  num_comments  \n",
       "0         2           0.0  \n",
       "1         2           0.0  \n",
       "2         2           0.0  \n",
       "3         3           0.0  \n",
       "4         2           0.0  \n",
       "...     ...           ...  \n",
       "1995      1           0.0  \n",
       "1996      1           6.0  \n",
       "1997      1           0.0  \n",
       "1998      1           0.0  \n",
       "1999      1           0.0  \n",
       "\n",
       "[2000 rows x 4 columns]"
      ]
     },
     "execution_count": 18,
     "metadata": {},
     "output_type": "execute_result"
    }
   ],
   "source": [
    "df"
   ]
  },
  {
   "cell_type": "markdown",
   "metadata": {},
   "source": [
    "## Cleaning and feature engineering"
   ]
  },
  {
   "cell_type": "code",
   "execution_count": 19,
   "metadata": {},
   "outputs": [],
   "source": [
    "# instantiate the sentiment analyzer\n",
    "sia = SentimentIntensityAnalyzer()"
   ]
  },
  {
   "cell_type": "code",
   "execution_count": 20,
   "metadata": {},
   "outputs": [],
   "source": [
    "# Write a function to get the compound sentiment scores for a post\n",
    "def get_compound_sentiment(post):\n",
    "    return sia.polarity_scores(post)['compound']"
   ]
  },
  {
   "cell_type": "code",
   "execution_count": 21,
   "metadata": {},
   "outputs": [],
   "source": [
    "df['sentiment'] = df['text'].apply(get_compound_sentiment)"
   ]
  },
  {
   "cell_type": "code",
   "execution_count": 22,
   "metadata": {},
   "outputs": [],
   "source": [
    "def text_to_words(raw_review):\n",
    "    # 1. Remove HTML.\n",
    "    review_text = BeautifulSoup(raw_review).get_text()\n",
    "    \n",
    "    # 2. Remove non-letters.\n",
    "    letters_only = re.sub(\"[^a-zA-Z]\", \" \", review_text)\n",
    "    \n",
    "    # 3. Convert to lower case, split into individual words.\n",
    "    words = letters_only.lower().split()\n",
    "    \n",
    "    # 4. In Python, searching a set is much faster than searching\n",
    "    # a list, so convert the stopwords to a set.\n",
    "    stops = set(stopwords.words('english'))#,'energy','renewable'))\n",
    "    \n",
    "    # 5. Remove stopwords.\n",
    "    meaningful_words = [w for w in words if not w in stops]\n",
    "    \n",
    "    #6.lemmatizing\n",
    "    lemmatizer = WordNetLemmatizer()\n",
    "    lemmmatized_words=[lemmatizer.lemmatize(i) for i in meaningful_words]\n",
    "    \n",
    "    # 7. Join the words back into one string separated by space, \n",
    "    # and return the result.\n",
    "    return(\" \".join(lemmmatized_words))"
   ]
  },
  {
   "cell_type": "code",
   "execution_count": 23,
   "metadata": {},
   "outputs": [],
   "source": [
    "# Initialize an empty list to hold the clean text.\n",
    "clean_text = []\n",
    "total_reviews = df.shape[0]\n",
    "for train_review in df['text']:\n",
    "    \n",
    "    # Convert review to words, then append to clean_train_reviews.\n",
    "    clean_text.append(text_to_words(train_review))"
   ]
  },
  {
   "cell_type": "code",
   "execution_count": 24,
   "metadata": {},
   "outputs": [],
   "source": [
    "df[\"cleaned_text\"]=clean_text"
   ]
  },
  {
   "cell_type": "code",
   "execution_count": 25,
   "metadata": {},
   "outputs": [],
   "source": [
    "df['cleaned_text'] = df['cleaned_text'].map(lambda x: re.sub('renewable', '', x))"
   ]
  },
  {
   "cell_type": "code",
   "execution_count": 26,
   "metadata": {},
   "outputs": [],
   "source": [
    "df['cleaned_text'] = df['cleaned_text'].map(lambda x: re.sub('energy', '', x))"
   ]
  },
  {
   "cell_type": "code",
   "execution_count": 27,
   "metadata": {},
   "outputs": [],
   "source": [
    "df['cleaned_text'] = df['cleaned_text'].map(lambda x: re.sub('renew', '', x))"
   ]
  },
  {
   "cell_type": "code",
   "execution_count": 28,
   "metadata": {},
   "outputs": [],
   "source": [
    "dirty_word=['http', 'np' ,'reddit','en','wikipedia','com','org','wiki','www','youtube','watch','message']"
   ]
  },
  {
   "cell_type": "code",
   "execution_count": 29,
   "metadata": {},
   "outputs": [],
   "source": [
    "re_banned_words = re.compile(r\"\\b(\" + \"|\".join(dirty_word) + \")\\\\W\", re.I)"
   ]
  },
  {
   "cell_type": "code",
   "execution_count": 30,
   "metadata": {},
   "outputs": [],
   "source": [
    "def RemoveBannedWords(x):\n",
    "    global re_banned_words\n",
    "    return re_banned_words.sub(\"\", x)\n"
   ]
  },
  {
   "cell_type": "code",
   "execution_count": 31,
   "metadata": {},
   "outputs": [],
   "source": [
    "df['cleaned_text'] = df['cleaned_text'].apply(RemoveBannedWords)"
   ]
  },
  {
   "cell_type": "code",
   "execution_count": 32,
   "metadata": {},
   "outputs": [],
   "source": [
    "# Let's come up with a list of positive and negative words we might observe.\n",
    "\n",
    "energy_words = [\"oil\",\"gas\",\"hydrogen\",\"plant\",\"fuel\",\"nuclear\"]\n",
    "renewable_energy_words = [\"green\",\"wind\",\"geothermal\",\"tidal\",\"grid\",\"storage\",\"solar\",\"biomass\",\"battery\"]"
   ]
  },
  {
   "cell_type": "code",
   "execution_count": 33,
   "metadata": {},
   "outputs": [],
   "source": [
    "def simple_class(text):\n",
    "     # Instantiate tokenizer.\n",
    "    tokenizer = RegexpTokenizer(r'\\w+')\n",
    "    \n",
    "    # Tokenize text.\n",
    "    tokens = tokenizer.tokenize(text.lower())\n",
    "    # Count \"energy\" words.\n",
    "    energy_count = sum([1 for i in tokens if i in energy_words])\n",
    "    # Count \"renewable energy\" words\n",
    "    renewable_energy_count = sum([1 for i in tokens if i in renewable_energy_words])\n",
    "    if renewable_energy_count>energy_count:\n",
    "        return \"1\"\n",
    "    else:\n",
    "        return \"0\""
   ]
  },
  {
   "cell_type": "code",
   "execution_count": 34,
   "metadata": {},
   "outputs": [],
   "source": [
    "df['simpe_class']=df[\"cleaned_text\"].apply(simple_class)"
   ]
  },
  {
   "cell_type": "code",
   "execution_count": 35,
   "metadata": {},
   "outputs": [],
   "source": [
    "df[\"simpe_class\"] = pd.to_numeric(df[\"simpe_class\"])"
   ]
  },
  {
   "cell_type": "code",
   "execution_count": 36,
   "metadata": {},
   "outputs": [],
   "source": [
    "df=df[df[\"cleaned_text\"]!=\"\"]"
   ]
  },
  {
   "cell_type": "code",
   "execution_count": 37,
   "metadata": {},
   "outputs": [
    {
     "data": {
      "text/html": [
       "<div>\n",
       "<style scoped>\n",
       "    .dataframe tbody tr th:only-of-type {\n",
       "        vertical-align: middle;\n",
       "    }\n",
       "\n",
       "    .dataframe tbody tr th {\n",
       "        vertical-align: top;\n",
       "    }\n",
       "\n",
       "    .dataframe thead th {\n",
       "        text-align: right;\n",
       "    }\n",
       "</style>\n",
       "<table border=\"1\" class=\"dataframe\">\n",
       "  <thead>\n",
       "    <tr style=\"text-align: right;\">\n",
       "      <th></th>\n",
       "      <th>text</th>\n",
       "      <th>subreddit</th>\n",
       "      <th>score</th>\n",
       "      <th>num_comments</th>\n",
       "      <th>sentiment</th>\n",
       "      <th>cleaned_text</th>\n",
       "      <th>simpe_class</th>\n",
       "    </tr>\n",
       "  </thead>\n",
       "  <tbody>\n",
       "    <tr>\n",
       "      <th>0</th>\n",
       "      <td>Modern problems require modern solutions</td>\n",
       "      <td>energy</td>\n",
       "      <td>2</td>\n",
       "      <td>0.0</td>\n",
       "      <td>-0.2500</td>\n",
       "      <td>modern problem require modern solution</td>\n",
       "      <td>0</td>\n",
       "    </tr>\n",
       "    <tr>\n",
       "      <th>1</th>\n",
       "      <td>See: [https://www.washingtonpost.com/opinions/...</td>\n",
       "      <td>energy</td>\n",
       "      <td>2</td>\n",
       "      <td>0.0</td>\n",
       "      <td>-0.0264</td>\n",
       "      <td>see washingtonpost opinion could pandemic help...</td>\n",
       "      <td>0</td>\n",
       "    </tr>\n",
       "    <tr>\n",
       "      <th>2</th>\n",
       "      <td>Can I get paid to fill my apartment swimming p...</td>\n",
       "      <td>energy</td>\n",
       "      <td>2</td>\n",
       "      <td>0.0</td>\n",
       "      <td>0.0000</td>\n",
       "      <td>get paid fill apartment swimming pool</td>\n",
       "      <td>0</td>\n",
       "    </tr>\n",
       "    <tr>\n",
       "      <th>3</th>\n",
       "      <td>You forgot that hydrogen is also the best futu...</td>\n",
       "      <td>energy</td>\n",
       "      <td>3</td>\n",
       "      <td>0.0</td>\n",
       "      <td>0.7964</td>\n",
       "      <td>forgot hydrogen also best future drone constru...</td>\n",
       "      <td>0</td>\n",
       "    </tr>\n",
       "    <tr>\n",
       "      <th>4</th>\n",
       "      <td>Cool so as long as you have the field wait til...</td>\n",
       "      <td>energy</td>\n",
       "      <td>2</td>\n",
       "      <td>0.0</td>\n",
       "      <td>0.4939</td>\n",
       "      <td>cool long field wait till may cost oil barrel ...</td>\n",
       "      <td>0</td>\n",
       "    </tr>\n",
       "    <tr>\n",
       "      <th>...</th>\n",
       "      <td>...</td>\n",
       "      <td>...</td>\n",
       "      <td>...</td>\n",
       "      <td>...</td>\n",
       "      <td>...</td>\n",
       "      <td>...</td>\n",
       "      <td>...</td>\n",
       "    </tr>\n",
       "    <tr>\n",
       "      <th>1995</th>\n",
       "      <td>Wind energy podcast episode</td>\n",
       "      <td>RenewableEnergy</td>\n",
       "      <td>1</td>\n",
       "      <td>0.0</td>\n",
       "      <td>0.2732</td>\n",
       "      <td>wind  podcast episode</td>\n",
       "      <td>1</td>\n",
       "    </tr>\n",
       "    <tr>\n",
       "      <th>1996</th>\n",
       "      <td>Fossil Fuels Aren’t Even a Very Good Investmen...</td>\n",
       "      <td>RenewableEnergy</td>\n",
       "      <td>1</td>\n",
       "      <td>6.0</td>\n",
       "      <td>0.3384</td>\n",
       "      <td>fossil fuel even good investment turbulence oi...</td>\n",
       "      <td>0</td>\n",
       "    </tr>\n",
       "    <tr>\n",
       "      <th>1997</th>\n",
       "      <td>Circular economy can improve the profitability...</td>\n",
       "      <td>RenewableEnergy</td>\n",
       "      <td>1</td>\n",
       "      <td>0.0</td>\n",
       "      <td>0.6124</td>\n",
       "      <td>circular economy improve profitability wind po...</td>\n",
       "      <td>1</td>\n",
       "    </tr>\n",
       "    <tr>\n",
       "      <th>1998</th>\n",
       "      <td>Follow up for Zeta Energy article on Forbes</td>\n",
       "      <td>RenewableEnergy</td>\n",
       "      <td>1</td>\n",
       "      <td>0.0</td>\n",
       "      <td>0.2732</td>\n",
       "      <td>follow zeta  article forbes</td>\n",
       "      <td>0</td>\n",
       "    </tr>\n",
       "    <tr>\n",
       "      <th>1999</th>\n",
       "      <td>“ PolicyEd” trying to pretend they care about ...</td>\n",
       "      <td>RenewableEnergy</td>\n",
       "      <td>1</td>\n",
       "      <td>0.0</td>\n",
       "      <td>0.4215</td>\n",
       "      <td>policyed trying pretend care planet paid oil i...</td>\n",
       "      <td>0</td>\n",
       "    </tr>\n",
       "  </tbody>\n",
       "</table>\n",
       "<p>1997 rows × 7 columns</p>\n",
       "</div>"
      ],
      "text/plain": [
       "                                                   text        subreddit  \\\n",
       "0              Modern problems require modern solutions           energy   \n",
       "1     See: [https://www.washingtonpost.com/opinions/...           energy   \n",
       "2     Can I get paid to fill my apartment swimming p...           energy   \n",
       "3     You forgot that hydrogen is also the best futu...           energy   \n",
       "4     Cool so as long as you have the field wait til...           energy   \n",
       "...                                                 ...              ...   \n",
       "1995                        Wind energy podcast episode  RenewableEnergy   \n",
       "1996  Fossil Fuels Aren’t Even a Very Good Investmen...  RenewableEnergy   \n",
       "1997  Circular economy can improve the profitability...  RenewableEnergy   \n",
       "1998        Follow up for Zeta Energy article on Forbes  RenewableEnergy   \n",
       "1999  “ PolicyEd” trying to pretend they care about ...  RenewableEnergy   \n",
       "\n",
       "      score  num_comments  sentiment  \\\n",
       "0         2           0.0    -0.2500   \n",
       "1         2           0.0    -0.0264   \n",
       "2         2           0.0     0.0000   \n",
       "3         3           0.0     0.7964   \n",
       "4         2           0.0     0.4939   \n",
       "...     ...           ...        ...   \n",
       "1995      1           0.0     0.2732   \n",
       "1996      1           6.0     0.3384   \n",
       "1997      1           0.0     0.6124   \n",
       "1998      1           0.0     0.2732   \n",
       "1999      1           0.0     0.4215   \n",
       "\n",
       "                                           cleaned_text  simpe_class  \n",
       "0                modern problem require modern solution            0  \n",
       "1     see washingtonpost opinion could pandemic help...            0  \n",
       "2                 get paid fill apartment swimming pool            0  \n",
       "3     forgot hydrogen also best future drone constru...            0  \n",
       "4     cool long field wait till may cost oil barrel ...            0  \n",
       "...                                                 ...          ...  \n",
       "1995                              wind  podcast episode            1  \n",
       "1996  fossil fuel even good investment turbulence oi...            0  \n",
       "1997  circular economy improve profitability wind po...            1  \n",
       "1998                        follow zeta  article forbes            0  \n",
       "1999  policyed trying pretend care planet paid oil i...            0  \n",
       "\n",
       "[1997 rows x 7 columns]"
      ]
     },
     "execution_count": 37,
     "metadata": {},
     "output_type": "execute_result"
    }
   ],
   "source": [
    "df"
   ]
  },
  {
   "cell_type": "code",
   "execution_count": 39,
   "metadata": {},
   "outputs": [],
   "source": [
    "df['subreddit'] = [1 if i == 'RenewableEnergy' else 0 for i in df['subreddit']]"
   ]
  },
  {
   "cell_type": "code",
   "execution_count": 40,
   "metadata": {},
   "outputs": [],
   "source": [
    "true_class=df[\"subreddit\"]"
   ]
  },
  {
   "cell_type": "code",
   "execution_count": 43,
   "metadata": {},
   "outputs": [],
   "source": [
    "df.drop(columns=[\"text\",\"subreddit\",\"score\",\"num_comments\"],inplace=True)"
   ]
  },
  {
   "cell_type": "code",
   "execution_count": 44,
   "metadata": {},
   "outputs": [
    {
     "data": {
      "text/html": [
       "<div>\n",
       "<style scoped>\n",
       "    .dataframe tbody tr th:only-of-type {\n",
       "        vertical-align: middle;\n",
       "    }\n",
       "\n",
       "    .dataframe tbody tr th {\n",
       "        vertical-align: top;\n",
       "    }\n",
       "\n",
       "    .dataframe thead th {\n",
       "        text-align: right;\n",
       "    }\n",
       "</style>\n",
       "<table border=\"1\" class=\"dataframe\">\n",
       "  <thead>\n",
       "    <tr style=\"text-align: right;\">\n",
       "      <th></th>\n",
       "      <th>sentiment</th>\n",
       "      <th>cleaned_text</th>\n",
       "      <th>simpe_class</th>\n",
       "    </tr>\n",
       "  </thead>\n",
       "  <tbody>\n",
       "    <tr>\n",
       "      <th>0</th>\n",
       "      <td>-0.2500</td>\n",
       "      <td>modern problem require modern solution</td>\n",
       "      <td>0</td>\n",
       "    </tr>\n",
       "    <tr>\n",
       "      <th>1</th>\n",
       "      <td>-0.0264</td>\n",
       "      <td>see washingtonpost opinion could pandemic help...</td>\n",
       "      <td>0</td>\n",
       "    </tr>\n",
       "    <tr>\n",
       "      <th>2</th>\n",
       "      <td>0.0000</td>\n",
       "      <td>get paid fill apartment swimming pool</td>\n",
       "      <td>0</td>\n",
       "    </tr>\n",
       "    <tr>\n",
       "      <th>3</th>\n",
       "      <td>0.7964</td>\n",
       "      <td>forgot hydrogen also best future drone constru...</td>\n",
       "      <td>0</td>\n",
       "    </tr>\n",
       "    <tr>\n",
       "      <th>4</th>\n",
       "      <td>0.4939</td>\n",
       "      <td>cool long field wait till may cost oil barrel ...</td>\n",
       "      <td>0</td>\n",
       "    </tr>\n",
       "    <tr>\n",
       "      <th>...</th>\n",
       "      <td>...</td>\n",
       "      <td>...</td>\n",
       "      <td>...</td>\n",
       "    </tr>\n",
       "    <tr>\n",
       "      <th>1995</th>\n",
       "      <td>0.2732</td>\n",
       "      <td>wind  podcast episode</td>\n",
       "      <td>1</td>\n",
       "    </tr>\n",
       "    <tr>\n",
       "      <th>1996</th>\n",
       "      <td>0.3384</td>\n",
       "      <td>fossil fuel even good investment turbulence oi...</td>\n",
       "      <td>0</td>\n",
       "    </tr>\n",
       "    <tr>\n",
       "      <th>1997</th>\n",
       "      <td>0.6124</td>\n",
       "      <td>circular economy improve profitability wind po...</td>\n",
       "      <td>1</td>\n",
       "    </tr>\n",
       "    <tr>\n",
       "      <th>1998</th>\n",
       "      <td>0.2732</td>\n",
       "      <td>follow zeta  article forbes</td>\n",
       "      <td>0</td>\n",
       "    </tr>\n",
       "    <tr>\n",
       "      <th>1999</th>\n",
       "      <td>0.4215</td>\n",
       "      <td>policyed trying pretend care planet paid oil i...</td>\n",
       "      <td>0</td>\n",
       "    </tr>\n",
       "  </tbody>\n",
       "</table>\n",
       "<p>1997 rows × 3 columns</p>\n",
       "</div>"
      ],
      "text/plain": [
       "      sentiment                                       cleaned_text  \\\n",
       "0       -0.2500             modern problem require modern solution   \n",
       "1       -0.0264  see washingtonpost opinion could pandemic help...   \n",
       "2        0.0000              get paid fill apartment swimming pool   \n",
       "3        0.7964  forgot hydrogen also best future drone constru...   \n",
       "4        0.4939  cool long field wait till may cost oil barrel ...   \n",
       "...         ...                                                ...   \n",
       "1995     0.2732                              wind  podcast episode   \n",
       "1996     0.3384  fossil fuel even good investment turbulence oi...   \n",
       "1997     0.6124  circular economy improve profitability wind po...   \n",
       "1998     0.2732                        follow zeta  article forbes   \n",
       "1999     0.4215  policyed trying pretend care planet paid oil i...   \n",
       "\n",
       "      simpe_class  \n",
       "0               0  \n",
       "1               0  \n",
       "2               0  \n",
       "3               0  \n",
       "4               0  \n",
       "...           ...  \n",
       "1995            1  \n",
       "1996            0  \n",
       "1997            1  \n",
       "1998            0  \n",
       "1999            0  \n",
       "\n",
       "[1997 rows x 3 columns]"
      ]
     },
     "execution_count": 44,
     "metadata": {},
     "output_type": "execute_result"
    }
   ],
   "source": [
    "df"
   ]
  },
  {
   "cell_type": "markdown",
   "metadata": {},
   "source": [
    "## Now apply the model to test data"
   ]
  },
  {
   "cell_type": "code",
   "execution_count": null,
   "metadata": {},
   "outputs": [],
   "source": [
    "# # use pickle.load to load in these assets\n",
    "# with open('../assets/lon_reg_cvec.pkl', 'rb') as f:\n",
    "#     m1 = pickle.load(f)"
   ]
  },
  {
   "cell_type": "code",
   "execution_count": null,
   "metadata": {},
   "outputs": [],
   "source": [
    "# # use pickle.load to load in these assets\n",
    "# with open('../assets/lon_reg_tvec.pkl', 'rb') as f:\n",
    "#     m2 = pickle.load(f)"
   ]
  },
  {
   "cell_type": "code",
   "execution_count": null,
   "metadata": {},
   "outputs": [],
   "source": [
    "# predicted_class1=m1.predict(df)"
   ]
  },
  {
   "cell_type": "code",
   "execution_count": null,
   "metadata": {},
   "outputs": [],
   "source": [
    "# predicted_class2=m2.predict(df)"
   ]
  },
  {
   "cell_type": "code",
   "execution_count": null,
   "metadata": {},
   "outputs": [],
   "source": [
    "# def nice_conmat(y_test, preds, classes):\n",
    "\n",
    "#     conmat = confusion_matrix(y_test, preds)\n",
    "#     print(f'Accuracy Score: {accuracy_score(y_test, preds)}')\n",
    "#     return pd.DataFrame(conmat, columns=['Predicted ' +class_ for class_ in classes], \\\n",
    "#                 index=['Actual '+ class_ for class_ in classes])"
   ]
  },
  {
   "cell_type": "code",
   "execution_count": null,
   "metadata": {},
   "outputs": [],
   "source": [
    "# nice_conmat(true_class,predicted_class1,, ['energy', 'renewable_energy'])"
   ]
  },
  {
   "cell_type": "code",
   "execution_count": null,
   "metadata": {},
   "outputs": [],
   "source": [
    "#nice_conmat(true_class,predicted_class2,, ['energy', 'renewable_energy'])"
   ]
  },
  {
   "cell_type": "code",
   "execution_count": null,
   "metadata": {},
   "outputs": [],
   "source": []
  }
 ],
 "metadata": {
  "kernelspec": {
   "display_name": "Python 3",
   "language": "python",
   "name": "python3"
  },
  "language_info": {
   "codemirror_mode": {
    "name": "ipython",
    "version": 3
   },
   "file_extension": ".py",
   "mimetype": "text/x-python",
   "name": "python",
   "nbconvert_exporter": "python",
   "pygments_lexer": "ipython3",
   "version": "3.7.6"
  }
 },
 "nbformat": 4,
 "nbformat_minor": 4
}
